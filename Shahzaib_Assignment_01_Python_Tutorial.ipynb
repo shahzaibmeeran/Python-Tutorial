{
 "cells": [
  {
   "cell_type": "markdown",
   "id": "3ba65e41-6517-4385-8f73-1fe61fd1acc9",
   "metadata": {},
   "source": [
    "## 2. Data Types\n"
   ]
  },
  {
   "cell_type": "code",
   "execution_count": 41,
   "id": "eb31b8a7-5e96-469d-8314-8b1c495d5574",
   "metadata": {},
   "outputs": [
    {
     "name": "stdout",
     "output_type": "stream",
     "text": [
      "100.0\n",
      "100\n"
     ]
    }
   ],
   "source": [
    "counter = 100.00 #float type variable\n",
    "miles = 100 #integer type variable\n",
    "name = \"Mehvish\" #string type variable\n",
    "#print all values\n",
    "print (counter)\n",
    "print (miles)\n"
   ]
  },
  {
   "cell_type": "code",
   "execution_count": 43,
   "id": "03be9f17-fe98-4ff5-bcfa-968f707f8414",
   "metadata": {},
   "outputs": [
    {
     "data": {
      "text/plain": [
       "2"
      ]
     },
     "execution_count": 43,
     "metadata": {},
     "output_type": "execute_result"
    }
   ],
   "source": [
    "2 #integer"
   ]
  },
  {
   "cell_type": "code",
   "execution_count": 5,
   "id": "7e050214-e53c-4022-b121-7c491a9c0ac2",
   "metadata": {},
   "outputs": [
    {
     "data": {
      "text/plain": [
       "5"
      ]
     },
     "execution_count": 5,
     "metadata": {},
     "output_type": "execute_result"
    }
   ],
   "source": [
    "2+3 #integer"
   ]
  },
  {
   "cell_type": "code",
   "execution_count": 7,
   "id": "4bf8146f-7a1a-4a9a-b0a8-82bf24fea914",
   "metadata": {},
   "outputs": [
    {
     "data": {
      "text/plain": [
       "7.8"
      ]
     },
     "execution_count": 7,
     "metadata": {},
     "output_type": "execute_result"
    }
   ],
   "source": [
    " 2.3+5.5 #float"
   ]
  },
  {
   "cell_type": "code",
   "execution_count": 9,
   "id": "2bccba47-111d-4aaa-b8ff-64fec9db2b37",
   "metadata": {},
   "outputs": [
    {
     "data": {
      "text/plain": [
       "4"
      ]
     },
     "execution_count": 9,
     "metadata": {},
     "output_type": "execute_result"
    }
   ],
   "source": [
    "2**2 #exponent"
   ]
  },
  {
   "cell_type": "code",
   "execution_count": 11,
   "id": "c0ec38b4-ea94-4df8-9ef8-25d2ddf6b100",
   "metadata": {},
   "outputs": [
    {
     "name": "stdout",
     "output_type": "stream",
     "text": [
      "Mehvish COMSATS\n"
     ]
    }
   ],
   "source": [
    "name = 'Mehvish'\n",
    "university = \"COMSATS\"\n",
    "print(name,university)"
   ]
  },
  {
   "cell_type": "code",
   "execution_count": 13,
   "id": "5940569b-3b5b-4729-9714-2ccc78e213ae",
   "metadata": {},
   "outputs": [
    {
     "name": "stdout",
     "output_type": "stream",
     "text": [
      "stringVariable[0]: H\n",
      "stringVariable[1:5]: ello\n"
     ]
    }
   ],
   "source": [
    "stringVariable = 'Hello World'\n",
    "print(\"stringVariable[0]:\", stringVariable[0])\n",
    "print(\"stringVariable[1:5]:\", stringVariable[1:5])\n"
   ]
  },
  {
   "cell_type": "code",
   "execution_count": 15,
   "id": "f130c538-5ec1-430c-a09e-daa3a9b42653",
   "metadata": {},
   "outputs": [
    {
     "name": "stdout",
     "output_type": "stream",
     "text": [
      "Updated string:  Hello Python\n"
     ]
    }
   ],
   "source": [
    "stringVariable = \"Hello World\"\n",
    "stringVariable = stringVariable[:6] + \"Python\"\n",
    "print(\"Updated string: \", stringVariable)\n"
   ]
  },
  {
   "cell_type": "code",
   "execution_count": 17,
   "id": "e15de021-3c4a-4163-891d-8f893815b5d1",
   "metadata": {},
   "outputs": [
    {
     "name": "stdout",
     "output_type": "stream",
     "text": [
      "Hello World\n"
     ]
    },
    {
     "ename": "NameError",
     "evalue": "name 'stringVariable' is not defined",
     "output_type": "error",
     "traceback": [
      "\u001b[1;31m---------------------------------------------------------------------------\u001b[0m",
      "\u001b[1;31mNameError\u001b[0m                                 Traceback (most recent call last)",
      "Cell \u001b[1;32mIn[17], line 4\u001b[0m\n\u001b[0;32m      2\u001b[0m \u001b[38;5;28mprint\u001b[39m (stringVariable)\n\u001b[0;32m      3\u001b[0m \u001b[38;5;28;01mdel\u001b[39;00m stringVariable\n\u001b[1;32m----> 4\u001b[0m \u001b[38;5;28mprint\u001b[39m (stringVariable)\n",
      "\u001b[1;31mNameError\u001b[0m: name 'stringVariable' is not defined"
     ]
    }
   ],
   "source": [
    "stringVariable = \"Hello World\"\n",
    "print (stringVariable)\n",
    "del stringVariable\n",
    "print (stringVariable)"
   ]
  },
  {
   "cell_type": "markdown",
   "id": "280fca79-38b4-4502-9101-5fa36134ac71",
   "metadata": {},
   "source": [
    " ''its shows error Because after first print we delete the stringvariable''"
   ]
  },
  {
   "cell_type": "code",
   "execution_count": 25,
   "id": "fe270e84-8709-49e3-a150-70a69821c978",
   "metadata": {},
   "outputs": [
    {
     "name": "stdout",
     "output_type": "stream",
     "text": [
      "HelloPython\n"
     ]
    }
   ],
   "source": [
    "variable = \"Hello\"\n",
    "print(variable+\"Python\")\n"
   ]
  },
  {
   "cell_type": "code",
   "execution_count": 27,
   "id": "3cc1c4b5-91ab-45c3-8591-8cb84ce3a9f7",
   "metadata": {},
   "outputs": [
    {
     "name": "stdout",
     "output_type": "stream",
     "text": [
      "HelloHelloHello\n"
     ]
    }
   ],
   "source": [
    " variable = \"Hello\"\n",
    "print(variable*3)\n"
   ]
  },
  {
   "cell_type": "code",
   "execution_count": 29,
   "id": "7a1b1942-c514-42ad-acba-cf29ccaa8354",
   "metadata": {},
   "outputs": [
    {
     "name": "stdout",
     "output_type": "stream",
     "text": [
      "e\n"
     ]
    }
   ],
   "source": [
    "variable = \"Hello\"\n",
    "print(variable[1])"
   ]
  },
  {
   "cell_type": "code",
   "execution_count": 31,
   "id": "d3dedacb-1388-4094-a8fc-269663693dd3",
   "metadata": {},
   "outputs": [
    {
     "name": "stdout",
     "output_type": "stream",
     "text": [
      "el\n"
     ]
    }
   ],
   "source": [
    "variable = \"Hello\"\n",
    "print(variable[1:3])\n"
   ]
  },
  {
   "cell_type": "code",
   "execution_count": 33,
   "id": "0466eaec-1dc3-4916-b110-982dea0ae356",
   "metadata": {},
   "outputs": [
    {
     "name": "stdout",
     "output_type": "stream",
     "text": [
      "True\n"
     ]
    }
   ],
   "source": [
    "variable = \"Hello\"\n",
    "print('H' in variable)\n"
   ]
  },
  {
   "cell_type": "code",
   "execution_count": 35,
   "id": "882717ab-7d1e-4de8-b104-c463568547aa",
   "metadata": {},
   "outputs": [
    {
     "name": "stdout",
     "output_type": "stream",
     "text": [
      "True\n"
     ]
    }
   ],
   "source": [
    "variable = \"Hello\"\n",
    "print('G' not in variable)\n"
   ]
  },
  {
   "cell_type": "code",
   "execution_count": 37,
   "id": "f00572ce-805f-4ad3-8ba0-5e858d0915d2",
   "metadata": {},
   "outputs": [
    {
     "name": "stdout",
     "output_type": "stream",
     "text": [
      "My name is Zara and age is 21 kg!\n"
     ]
    }
   ],
   "source": [
    "print (\"My name is %s and age is %d kg!\" % (\"Zara\",21))\n"
   ]
  },
  {
   "cell_type": "code",
   "execution_count": 45,
   "id": "38db3275-e7df-49cb-b439-05ddfc1ca08e",
   "metadata": {},
   "outputs": [
    {
     "name": "stdout",
     "output_type": "stream",
     "text": [
      "['Mehvish', '1880']\n"
     ]
    }
   ],
   "source": [
    "list1 = ['Mehvish','1880']\n",
    "print(list1)\n"
   ]
  },
  {
   "cell_type": "code",
   "execution_count": 47,
   "id": "d154abb0-c20c-4f4c-9ea4-cf26002aa5b0",
   "metadata": {},
   "outputs": [
    {
     "name": "stdout",
     "output_type": "stream",
     "text": [
      "list1[0]:  physics\n",
      "list2[1:5]:  [2, 3, 4, 5]\n"
     ]
    }
   ],
   "source": [
    "list1 = ['physics', 'chemistry', 1997, 2000];\n",
    "list2 = [1, 2, 3, 4, 5, 6, 7 ];\n",
    "print (\"list1[0]: \", list1[0])\n",
    "print (\"list2[1:5]: \", list2[1:5])\n"
   ]
  },
  {
   "cell_type": "code",
   "execution_count": 49,
   "id": "f0b8a1e8-528d-478e-9005-c6ac0dfb072b",
   "metadata": {},
   "outputs": [
    {
     "name": "stdout",
     "output_type": "stream",
     "text": [
      "['physics', 'computer science', 1997, 2000]\n",
      "['physics', 'computer science', 1997, 2000, 'Computer Science']\n"
     ]
    }
   ],
   "source": [
    "list1 = ['physics', 'chemistry', 1997, 2000];\n",
    "list1[1] = \"computer science\"\n",
    "print(list1)\n",
    "list1.append('Computer Science')\n",
    "print(list1)\n"
   ]
  },
  {
   "cell_type": "code",
   "execution_count": 51,
   "id": "ea670ae4-a47f-41c0-a597-e6ffae1f0900",
   "metadata": {},
   "outputs": [
    {
     "name": "stdout",
     "output_type": "stream",
     "text": [
      "['physics', 'chemistry', 1997, 2000]\n",
      "After deleting value at index 2 : \n",
      "['physics', 'chemistry', 2000]\n"
     ]
    }
   ],
   "source": [
    "list1 = ['physics', 'chemistry', 1997, 2000];\n",
    "print (list1)\n",
    "del list1[2];\n",
    "print (\"After deleting value at index 2 : \")\n",
    "print (list1)\n"
   ]
  },
  {
   "cell_type": "code",
   "execution_count": 53,
   "id": "46867836-abf2-4299-9f8e-29bba0ee867b",
   "metadata": {},
   "outputs": [
    {
     "name": "stdout",
     "output_type": "stream",
     "text": [
      "['physics', 'chemistry', 1997, 2000]\n",
      "After deleting value at index 2 : \n",
      "['physics', 1997, 2000]\n"
     ]
    }
   ],
   "source": [
    " list1 = ['physics', 'chemistry', 1997, 2000];\n",
    "print (list1)\n",
    "list1.remove('chemistry')\n",
    "print (\"After deleting value at index 2 : \")\n",
    "print (list1)\n"
   ]
  },
  {
   "cell_type": "code",
   "execution_count": 55,
   "id": "17ea3660-2f32-4973-bfe3-11434a950942",
   "metadata": {},
   "outputs": [
    {
     "name": "stdout",
     "output_type": "stream",
     "text": [
      "Mehvish\n"
     ]
    }
   ],
   "source": [
    "dict = {'Name':\"Mehvish\", 'Depart': \"BCS\", 'Batch': 2014}\n",
    "print (dict['Name'])\n"
   ]
  },
  {
   "cell_type": "code",
   "execution_count": 57,
   "id": "b6dcfcd3-46a1-4346-b25b-131b8feaef4e",
   "metadata": {},
   "outputs": [
    {
     "name": "stdout",
     "output_type": "stream",
     "text": [
      "{'Name': 'Mehvish', 'Depart': 'BCS', 'Batch': 2014}\n",
      "{'Name': 'Mehvish', 'Depart': 'BCS', 'Batch': 'SP14'}\n",
      "{'Name': 'Mehvish', 'Depart': 'BCS', 'Batch': 'SP14', 'University': 'COMSATS'}\n"
     ]
    }
   ],
   "source": [
    "dict = {'Name':\"Mehvish\", 'Depart': \"BCS\", 'Batch': 2014}\n",
    "print (dict)\n",
    "dict['Batch'] = \"SP14\"\n",
    "print (dict)\n",
    "dict['University'] = \"COMSATS\"\n",
    "print(dict)\n"
   ]
  },
  {
   "cell_type": "code",
   "execution_count": 59,
   "id": "3933e8d3-86c8-484b-8e6d-e9bbcc987ee2",
   "metadata": {},
   "outputs": [
    {
     "name": "stdout",
     "output_type": "stream",
     "text": [
      "{'Name': 'Mehvish', 'Depart': 'BCS', 'Batch': 2014}\n",
      "{'Name': 'Mehvish', 'Depart': 'BCS'}\n"
     ]
    }
   ],
   "source": [
    "dict = {'Name':\"Mehvish\", 'Depart': \"BCS\", 'Batch': 2014}\n",
    "print (dict)\n",
    "del dict['Batch']\n",
    "print (dict)"
   ]
  },
  {
   "cell_type": "code",
   "execution_count": 61,
   "id": "bdcfc1ec-ae11-445d-807f-990f73ba9e40",
   "metadata": {},
   "outputs": [
    {
     "name": "stdout",
     "output_type": "stream",
     "text": [
      "{}\n"
     ]
    }
   ],
   "source": [
    " dict = {'Name':\"Mehvish\", 'Depart': \"BCS\", 'Batch': 2014}\n",
    "dict.clear()\n",
    "print (dict)\n"
   ]
  },
  {
   "cell_type": "code",
   "execution_count": 63,
   "id": "abb22546-6b65-465f-8a98-78e8d1084ff2",
   "metadata": {},
   "outputs": [
    {
     "name": "stdout",
     "output_type": "stream",
     "text": [
      "('Math', '98', 'C programming', '99')\n",
      "98\n",
      "('98', 'C programming')\n"
     ]
    }
   ],
   "source": [
    "tup = ('Math','98', 'C programming', '99')\n",
    "print (tup)\n",
    "print(tup[1])\n",
    "print(tup[1:3])\n"
   ]
  },
  {
   "cell_type": "code",
   "execution_count": 65,
   "id": "d00dff0b-a659-461a-99a3-dd227b84e481",
   "metadata": {},
   "outputs": [
    {
     "name": "stdout",
     "output_type": "stream",
     "text": [
      "(12, 34.56, 'abc', 'xyz')\n"
     ]
    }
   ],
   "source": [
    "tup1 = (12, 34.56);\n",
    "tup2 = ('abc', 'xyz');\n",
    "#Following action is not valid for tuples\n",
    "#tup1[0] = 100;\n",
    "#So let's create a new tuple as follows\n",
    "tup3 = tup1 + tup2;\n",
    "print (tup3);\n"
   ]
  },
  {
   "cell_type": "code",
   "execution_count": 67,
   "id": "395408b8-18b7-427d-8613-b2ba950a8e11",
   "metadata": {},
   "outputs": [
    {
     "name": "stdout",
     "output_type": "stream",
     "text": [
      "('physics', 'chemistry', 1997, 2000)\n",
      "After deleting tup : \n"
     ]
    },
    {
     "ename": "NameError",
     "evalue": "name 'tup' is not defined",
     "output_type": "error",
     "traceback": [
      "\u001b[1;31m---------------------------------------------------------------------------\u001b[0m",
      "\u001b[1;31mNameError\u001b[0m                                 Traceback (most recent call last)",
      "Cell \u001b[1;32mIn[67], line 5\u001b[0m\n\u001b[0;32m      3\u001b[0m \u001b[38;5;28;01mdel\u001b[39;00m tup;\n\u001b[0;32m      4\u001b[0m \u001b[38;5;28mprint\u001b[39m (\u001b[38;5;124m\"\u001b[39m\u001b[38;5;124mAfter deleting tup : \u001b[39m\u001b[38;5;124m\"\u001b[39m);\n\u001b[1;32m----> 5\u001b[0m \u001b[38;5;28mprint\u001b[39m (tup)\n",
      "\u001b[1;31mNameError\u001b[0m: name 'tup' is not defined"
     ]
    }
   ],
   "source": [
    " tup = ('physics', 'chemistry', 1997, 2000);\n",
    "print (tup);\n",
    "del tup;\n",
    "print (\"After deleting tup : \");\n",
    "print (tup);\n"
   ]
  },
  {
   "cell_type": "markdown",
   "id": "a6cbc77e-e6cb-498f-b5b5-d098b0ad92c7",
   "metadata": {},
   "source": [
    "After first print we delete the tuple"
   ]
  },
  {
   "cell_type": "code",
   "execution_count": 70,
   "id": "cf854ebd-9bfe-449a-9ac3-600dfd1e709e",
   "metadata": {},
   "outputs": [
    {
     "ename": "SyntaxError",
     "evalue": "invalid syntax (1209854363.py, line 5)",
     "output_type": "error",
     "traceback": [
      "\u001b[1;36m  Cell \u001b[1;32mIn[70], line 5\u001b[1;36m\u001b[0m\n\u001b[1;33m    print(my_set) print\u001b[0m\n\u001b[1;37m                  ^\u001b[0m\n\u001b[1;31mSyntaxError\u001b[0m\u001b[1;31m:\u001b[0m invalid syntax\n"
     ]
    }
   ],
   "source": [
    "#list\n",
    "list1 = [1,2,3,4,5]\n",
    "print (type(list1))\n",
    "my_set = set(list1)\n",
    "print(my_set) print\n",
    "(type(my_set))\n",
    "#set of integers\n",
    "my_set = {1,2,3}\n",
    "print (my_set)\n",
    "#set of mixed data types\n",
    "my_set = {1,\"Hello\", 1.2,'C'}\n",
    "#adding a single value\n",
    "my_set.add('D')\n",
    "#adding multiple values\n",
    "my_set.update(list1)\n",
    "print (my_set)\n",
    "my_set.discard('G') # it will not raise an error\n",
    "my_set.remove('G') # it will raise an error\n"
   ]
  },
  {
   "cell_type": "markdown",
   "id": "115d5476-a23d-4080-b499-4107b6ef757a",
   "metadata": {},
   "source": [
    "my_set.discard('G') , not raise an error if the element is missing.\n",
    "\n",
    "my_set.remove('G') , Because 'G' is not present in the set, and remove() raises a KeyError"
   ]
  },
  {
   "cell_type": "markdown",
   "id": "2fd9e7a9-2abb-49b5-a737-6df9704660b4",
   "metadata": {},
   "source": [
    "# 3. Comparison Operators"
   ]
  },
  {
   "cell_type": "code",
   "execution_count": 73,
   "id": "e71ea916-57cc-4322-99e5-0242831738d2",
   "metadata": {},
   "outputs": [
    {
     "data": {
      "text/plain": [
       "True"
      ]
     },
     "execution_count": 73,
     "metadata": {},
     "output_type": "execute_result"
    }
   ],
   "source": [
    "1<3"
   ]
  },
  {
   "cell_type": "code",
   "execution_count": 75,
   "id": "ef68edb9-e35a-4c9e-a16e-534f6c2fc050",
   "metadata": {},
   "outputs": [
    {
     "data": {
      "text/plain": [
       "True"
      ]
     },
     "execution_count": 75,
     "metadata": {},
     "output_type": "execute_result"
    }
   ],
   "source": [
    "15 <= 23\n"
   ]
  },
  {
   "cell_type": "code",
   "execution_count": 77,
   "id": "b9163976-8e03-4b81-bdb2-72a383b357f5",
   "metadata": {},
   "outputs": [
    {
     "data": {
      "text/plain": [
       "False"
      ]
     },
     "execution_count": 77,
     "metadata": {},
     "output_type": "execute_result"
    }
   ],
   "source": [
    "'Mehvish' == \"Zeenat\"\n"
   ]
  },
  {
   "cell_type": "code",
   "execution_count": 79,
   "id": "cb693414-2855-4b77-a39c-253c06d1ed7f",
   "metadata": {},
   "outputs": [
    {
     "data": {
      "text/plain": [
       "False"
      ]
     },
     "execution_count": 79,
     "metadata": {},
     "output_type": "execute_result"
    }
   ],
   "source": [
    "\"Mehvish\" != \"Mehvish\""
   ]
  },
  {
   "cell_type": "code",
   "execution_count": 81,
   "id": "6dcd966a-b021-4946-b1c5-70c8adadfce8",
   "metadata": {},
   "outputs": [
    {
     "data": {
      "text/plain": [
       "True"
      ]
     },
     "execution_count": 81,
     "metadata": {},
     "output_type": "execute_result"
    }
   ],
   "source": [
    "(1==1)or(5>2)"
   ]
  },
  {
   "cell_type": "code",
   "execution_count": 83,
   "id": "da6d213c-2438-45d0-a383-8a1ef8afa463",
   "metadata": {},
   "outputs": [
    {
     "data": {
      "text/plain": [
       "False"
      ]
     },
     "execution_count": 83,
     "metadata": {},
     "output_type": "execute_result"
    }
   ],
   "source": [
    " (1<2)and(2<1)"
   ]
  },
  {
   "cell_type": "markdown",
   "id": "d45dce1c-9f3b-4a99-9ae7-f222fc4d158f",
   "metadata": {},
   "source": [
    "# 4. If-Else Statements\r"
   ]
  },
  {
   "cell_type": "code",
   "execution_count": 90,
   "id": "666c80bd-bc7f-4933-b6de-fad9ee7ad42d",
   "metadata": {},
   "outputs": [
    {
     "name": "stdout",
     "output_type": "stream",
     "text": [
      "Even\n"
     ]
    }
   ],
   "source": [
    "if 25 % 2:\n",
    "     print('Even')\n",
    "else:\n",
    "     print('Odd')"
   ]
  },
  {
   "cell_type": "markdown",
   "id": "782fc947-cb42-4a8d-ac12-85cb5058c074",
   "metadata": {},
   "source": [
    "# 5. For and While Loop\r"
   ]
  },
  {
   "cell_type": "code",
   "execution_count": 94,
   "id": "3b82fcc7-b864-4157-85c2-525c1e953788",
   "metadata": {},
   "outputs": [
    {
     "name": "stdout",
     "output_type": "stream",
     "text": [
      "120\n"
     ]
    }
   ],
   "source": [
    "#example of for loop\n",
    "fact = 1\n",
    "N = 5\n",
    "for i in range (1,N+1):\n",
    "       fact*=i\n",
    "print (fact)\n"
   ]
  },
  {
   "cell_type": "code",
   "execution_count": 96,
   "id": "76573b66-40ab-4e7e-83cd-9d2eac1279e8",
   "metadata": {},
   "outputs": [
    {
     "name": "stdout",
     "output_type": "stream",
     "text": [
      "10\n"
     ]
    }
   ],
   "source": [
    "#example of while loop\n",
    "a = 0\n",
    "while a < 10:\n",
    "      a = a+1\n",
    "print(a)\n"
   ]
  },
  {
   "cell_type": "markdown",
   "id": "686e5fc5-76d6-404d-9ef9-cc86b3d656df",
   "metadata": {},
   "source": [
    "# 6. Functions\n"
   ]
  },
  {
   "cell_type": "code",
   "execution_count": 98,
   "id": "80431aa8-c1b5-418c-8529-4a4758d2d182",
   "metadata": {},
   "outputs": [
    {
     "name": "stdout",
     "output_type": "stream",
     "text": [
      "I'm first call to user defined function!\n"
     ]
    }
   ],
   "source": [
    " # Function definition is here\n",
    "def printme( str ):\n",
    "#This prints a passed string into this function\n",
    "        print (str)\n",
    "        return;\n",
    "# Now you can call printme function\n",
    "printme(\"I'm first call to user defined function!\")\n"
   ]
  },
  {
   "cell_type": "markdown",
   "id": "4ebd5854-0f57-4994-8176-6953e6f42723",
   "metadata": {},
   "source": [
    "# 7. Lambda Functions\r"
   ]
  },
  {
   "cell_type": "code",
   "execution_count": 104,
   "id": "5ebe54cc-7f7f-41b1-a52e-8110d87225d9",
   "metadata": {},
   "outputs": [
    {
     "name": "stdout",
     "output_type": "stream",
     "text": [
      "64\n"
     ]
    }
   ],
   "source": [
    " #Normal function\n",
    "def f (x):\n",
    "    return x**2\n",
    "print (f(8))\n"
   ]
  },
  {
   "cell_type": "code",
   "execution_count": 106,
   "id": "e9bd1e08-e8e6-4734-aa98-0735f963c33b",
   "metadata": {},
   "outputs": [
    {
     "data": {
      "text/plain": [
       "30"
      ]
     },
     "execution_count": 106,
     "metadata": {},
     "output_type": "execute_result"
    }
   ],
   "source": [
    "#Lambda Function\n",
    "#lambda expressions\n",
    "times3 = lambda var:var*3\n",
    "times3(10)\n",
    "#lambda expressions: another way to write a function in line"
   ]
  },
  {
   "cell_type": "code",
   "execution_count": 110,
   "id": "dd7ff2e4-6e1b-4618-9d1b-63765a974f76",
   "metadata": {},
   "outputs": [
    {
     "name": "stdout",
     "output_type": "stream",
     "text": [
      "['It', 'is', 'raining', 'cats', 'and', 'dogs']\n"
     ]
    },
    {
     "data": {
      "text/plain": [
       "[2, 2, 7, 4, 3, 4]"
      ]
     },
     "execution_count": 110,
     "metadata": {},
     "output_type": "execute_result"
    }
   ],
   "source": [
    "sentence = 'It is raining cats and dogs'\n",
    "words = sentence.split()\n",
    "print (words)\n",
    "\n",
    "lengths = map(lambda word: len(word), words)\n",
    "list(lengths)\n"
   ]
  },
  {
   "cell_type": "code",
   "execution_count": 113,
   "id": "44e15473-adde-411d-a1ef-352493737d7e",
   "metadata": {},
   "outputs": [
    {
     "data": {
      "text/plain": [
       "[1, 1, 3, 5, 13, 21, 55]"
      ]
     },
     "execution_count": 113,
     "metadata": {},
     "output_type": "execute_result"
    }
   ],
   "source": [
    "fib = [0,1,1,2,3,5,8,13,21,34,55]\n",
    "result1 = filter(lambda x: x % 2, fib)\n",
    "list(result1)\n"
   ]
  },
  {
   "cell_type": "code",
   "execution_count": 115,
   "id": "057a0771-ed28-4df0-bc3c-80fb0fed90af",
   "metadata": {},
   "outputs": [
    {
     "data": {
      "text/plain": [
       "[0, 2, 8, 34]"
      ]
     },
     "execution_count": 115,
     "metadata": {},
     "output_type": "execute_result"
    }
   ],
   "source": [
    "fib = [0,1,1,2,3,5,8,13,21,34,55]\n",
    "result2 = filter(lambda x: x % 2 == 0, fib)\n",
    "list (result2)\n"
   ]
  },
  {
   "cell_type": "markdown",
   "id": "b7bc2d48-b088-445c-a3da-2f18ee241520",
   "metadata": {},
   "source": [
    "# 8. File I/O"
   ]
  },
  {
   "cell_type": "code",
   "execution_count": 120,
   "id": "221e83c7-2f11-4acc-a7ad-060a9786f7a5",
   "metadata": {},
   "outputs": [
    {
     "name": "stdin",
     "output_type": "stream",
     "text": [
      "Enter your name:  Shahzaib\n"
     ]
    },
    {
     "name": "stdout",
     "output_type": "stream",
     "text": [
      "Shahzaib\n"
     ]
    }
   ],
   "source": [
    " from six.moves import input\n",
    "string = input(\"Enter your name: \");\n",
    "print(string)\n"
   ]
  },
  {
   "cell_type": "code",
   "execution_count": 136,
   "id": "ae296c90-fadd-4688-9ca6-b02f0b3bd2ba",
   "metadata": {},
   "outputs": [
    {
     "name": "stdout",
     "output_type": "stream",
     "text": [
      "Shahzaib\n"
     ]
    }
   ],
   "source": [
    "# Open a file to read\n",
    "fileOpen = open(\"file.txt\", \"r+\")\n",
    "str = fileOpen.read(); #to read specific content from start you can use read(12). It will read 12 characters from the start of file\n",
    "print (str)\n",
    "# Close opend file\n",
    "fileOpen.close()\n",
    "\n"
   ]
  },
  {
   "cell_type": "code",
   "execution_count": 142,
   "id": "34508008-fcf7-4576-8cc4-4b13e915229b",
   "metadata": {},
   "outputs": [
    {
     "name": "stdout",
     "output_type": "stream",
     "text": [
      "Shahzaib\n",
      "BS Information Technology Lahore\n"
     ]
    }
   ],
   "source": [
    "# Open a file to append\n",
    "fileOpen = open(\"file.txt\", \"a+\")\n",
    "fileOpen.write(\" Information Technology Lahore\");\n",
    "fileOpen.close()\n",
    "# Open a file to read\n",
    "fileOpen = open(\"file.txt\", \"r+\")\n",
    "string = fileOpen.read(); #to read specific content from start you can use read(12). It will read 12 characters from the start of file\n",
    "print (string)\n",
    "# Close opend file\n",
    "fileOpen.close()\n"
   ]
  },
  {
   "cell_type": "code",
   "execution_count": 144,
   "id": "742490e7-b904-457e-b8a3-0b7985fc45d1",
   "metadata": {},
   "outputs": [
    {
     "name": "stdout",
     "output_type": "stream",
     "text": [
      "ReadStringis:\n",
      " Shahzaib\n",
      "B\n",
      "Currentfileposition:\n",
      " 11\n",
      "AgainreadStringis:\n",
      " Shahzaib\n",
      "B\n"
     ]
    }
   ],
   "source": [
    "# Open a file\n",
    "fo = open(\"file.txt\", \"r+\")\n",
    "str = fo.read(10);\n",
    "print(\"ReadStringis:\\n\",str)\n",
    "# Check current position\n",
    "position = fo.tell();\n",
    "print(\"Currentfileposition:\\n\", position)\n",
    "#Repositionpointeratthebeginning once again\n",
    "position = fo.seek(0, 0);\n",
    "str = fo.read(10);\n",
    "print(\"AgainreadStringis:\\n\", str)\n",
    "# Close opend file\n",
    "fo.close()\n"
   ]
  },
  {
   "cell_type": "code",
   "execution_count": 146,
   "id": "6593f611-9d1e-40f1-83e5-8d8e1814ab99",
   "metadata": {},
   "outputs": [],
   "source": [
    "import os\n",
    "# renameafile\n",
    "os.rename(\"file.txt\",\"newfile.txt\")"
   ]
  },
  {
   "cell_type": "code",
   "execution_count": 148,
   "id": "4f850b01-9fc0-4712-8480-e2883e60e8ab",
   "metadata": {},
   "outputs": [],
   "source": [
    "#remove file\n",
    "os.remove(\"newfile.txt\")\n"
   ]
  },
  {
   "cell_type": "markdown",
   "id": "10e033b9-ed26-4410-b7c6-36e9ea84e9b7",
   "metadata": {},
   "source": [
    "# 9. Panda \n",
    "# 10.Series\n"
   ]
  },
  {
   "cell_type": "code",
   "execution_count": 151,
   "id": "a34d3ad5-88b4-4ecd-a757-f4ce44e39fd4",
   "metadata": {},
   "outputs": [
    {
     "data": {
      "text/plain": [
       "a   -0.270733\n",
       "b    1.698893\n",
       "c   -0.572403\n",
       "d    0.393570\n",
       "e   -0.115532\n",
       "dtype: float64"
      ]
     },
     "execution_count": 151,
     "metadata": {},
     "output_type": "execute_result"
    }
   ],
   "source": [
    "import pandas as pd\n",
    "import numpy as np\n",
    "import matplotlib.pyplot as plt\n",
    "\"\"\"following a fucntion is called from panas to create a series.\n",
    "data would be 5 random values and indexes are assigned a-e\"\"\"\n",
    "s = pd.Series(np.random.randn(5), index=['a', 'b', 'c', 'd', 'e'])\n",
    "s\n"
   ]
  },
  {
   "cell_type": "code",
   "execution_count": 153,
   "id": "46604f98-57e4-4f1c-a604-1d466ac68c28",
   "metadata": {},
   "outputs": [
    {
     "data": {
      "text/plain": [
       "Index(['a', 'b', 'c', 'd', 'e'], dtype='object')"
      ]
     },
     "execution_count": 153,
     "metadata": {},
     "output_type": "execute_result"
    }
   ],
   "source": [
    " \"\"\"Following function will print the index and its datatype\"\"\"\n",
    "s.index\n"
   ]
  },
  {
   "cell_type": "code",
   "execution_count": 155,
   "id": "12d06714-b0ba-40bb-b657-fa52e4b80570",
   "metadata": {},
   "outputs": [
    {
     "data": {
      "text/plain": [
       "a    0.0\n",
       "b    1.0\n",
       "c    2.0\n",
       "dtype: float64"
      ]
     },
     "execution_count": 155,
     "metadata": {},
     "output_type": "execute_result"
    }
   ],
   "source": [
    "\"\"\" In following example, indexes are not given to it is constructed from the sorted keys of the dict\"\"\"\n",
    "d = {'a' : 0., 'b' : 1., 'c' : 2.} # a python dict\n",
    "pd.Series(d)\n"
   ]
  },
  {
   "cell_type": "code",
   "execution_count": 157,
   "id": "c9c5bb19-b4a7-4628-928d-690c9fcd4b5c",
   "metadata": {},
   "outputs": [
    {
     "data": {
      "text/plain": [
       "b    1.0\n",
       "c    2.0\n",
       "d    NaN\n",
       "a    0.0\n",
       "dtype: float64"
      ]
     },
     "execution_count": 157,
     "metadata": {},
     "output_type": "execute_result"
    }
   ],
   "source": [
    "\"\"\" In following example, index are given, so the values in data corresponding in the index will be pulled ou\n",
    "t\"\"\"\n",
    "pd.Series(d, index=['b', 'c', 'd', 'a'])\n"
   ]
  },
  {
   "cell_type": "code",
   "execution_count": 159,
   "id": "e10b7fe7-960a-4d7c-93e0-3df95d33263e",
   "metadata": {},
   "outputs": [
    {
     "data": {
      "text/plain": [
       "a    5.0\n",
       "b    5.0\n",
       "c    5.0\n",
       "d    5.0\n",
       "e    5.0\n",
       "dtype: float64"
      ]
     },
     "execution_count": 159,
     "metadata": {},
     "output_type": "execute_result"
    }
   ],
   "source": [
    "\"\"\"In following example, a scalar value is given as data so it will be repeated to match the length of inde\n",
    "x\"\"\"\n",
    "pd.Series(5., index=['a', 'b', 'c', 'd', 'e'])\n"
   ]
  },
  {
   "cell_type": "code",
   "execution_count": 161,
   "id": "ca9cc30a-5802-4be4-87bb-c41398d26f79",
   "metadata": {},
   "outputs": [
    {
     "name": "stderr",
     "output_type": "stream",
     "text": [
      "C:\\Users\\Shahzaib\\AppData\\Local\\Temp\\ipykernel_6180\\2232011024.py:3: FutureWarning: Series.__getitem__ treating keys as positions is deprecated. In a future version, integer keys will always be treated as labels (consistent with DataFrame behavior). To access a value by position, use `ser.iloc[pos]`\n",
      "  s[0]\n"
     ]
    },
    {
     "data": {
      "text/plain": [
       "-0.27073312406757755"
      ]
     },
     "execution_count": 161,
     "metadata": {},
     "output_type": "execute_result"
    }
   ],
   "source": [
    "#we can access a value just like ndarray\n",
    "#access single value\n",
    "s[0]\n"
   ]
  },
  {
   "cell_type": "code",
   "execution_count": 163,
   "id": "4770ac82-1c34-4ddb-a3b8-75b6ffa576e0",
   "metadata": {},
   "outputs": [
    {
     "data": {
      "text/plain": [
       "a   -0.270733\n",
       "b    1.698893\n",
       "c   -0.572403\n",
       "d    0.393570\n",
       "e   -0.115532\n",
       "dtype: float64"
      ]
     },
     "execution_count": 163,
     "metadata": {},
     "output_type": "execute_result"
    }
   ],
   "source": [
    "#access range of values\n",
    "s[:5]\n"
   ]
  },
  {
   "cell_type": "code",
   "execution_count": 165,
   "id": "3eb44a5a-f1ef-474f-9edf-2e45b4154eed",
   "metadata": {},
   "outputs": [
    {
     "data": {
      "text/plain": [
       "b    1.698893\n",
       "d    0.393570\n",
       "dtype: float64"
      ]
     },
     "execution_count": 165,
     "metadata": {},
     "output_type": "execute_result"
    }
   ],
   "source": [
    "\"\"\" Following example will return a range of values in series whose value is greater than the median of serie\n",
    "s\"\"\"\n",
    "s[s > s.median()]\n"
   ]
  },
  {
   "cell_type": "code",
   "execution_count": 167,
   "id": "46866349-4a3e-40a6-ad30-2f009e919fc7",
   "metadata": {},
   "outputs": [
    {
     "name": "stderr",
     "output_type": "stream",
     "text": [
      "C:\\Users\\Shahzaib\\AppData\\Local\\Temp\\ipykernel_6180\\286164160.py:3: FutureWarning: Series.__getitem__ treating keys as positions is deprecated. In a future version, integer keys will always be treated as labels (consistent with DataFrame behavior). To access a value by position, use `ser.iloc[pos]`\n",
      "  s[[4, 3, 1]]\n"
     ]
    },
    {
     "data": {
      "text/plain": [
       "e   -0.115532\n",
       "d    0.393570\n",
       "b    1.698893\n",
       "dtype: float64"
      ]
     },
     "execution_count": 167,
     "metadata": {},
     "output_type": "execute_result"
    }
   ],
   "source": [
    "\"\"\"Following example is return the values in series with indexes. 4,3,1 are the positions of the indexs\n",
    "For example: the index at 4,3,1 are e,d,b respectively\"\"\"\n",
    "s[[4, 3, 1]]"
   ]
  },
  {
   "cell_type": "code",
   "execution_count": 169,
   "id": "4c3481cb-06f6-43a9-8c5d-a6103adb7cdd",
   "metadata": {},
   "outputs": [
    {
     "data": {
      "text/plain": [
       "a    0.762820\n",
       "b    5.467890\n",
       "c    0.564168\n",
       "d    1.482262\n",
       "e    0.890892\n",
       "dtype: float64"
      ]
     },
     "execution_count": 169,
     "metadata": {},
     "output_type": "execute_result"
    }
   ],
   "source": [
    " \"\"\" Following example returns the exponent values. just like e^a (here a is index and its respective data is\n",
    "placed here)\"\"\"\n",
    "np.exp(s)\n"
   ]
  },
  {
   "cell_type": "code",
   "execution_count": 171,
   "id": "41849270-7a27-4a89-9729-6dcd36e36888",
   "metadata": {},
   "outputs": [
    {
     "data": {
      "text/plain": [
       "-0.27073312406757755"
      ]
     },
     "execution_count": 171,
     "metadata": {},
     "output_type": "execute_result"
    }
   ],
   "source": [
    "\"\"\"Following example will get the data of given index\"\"\"\n",
    "s['a']\n"
   ]
  },
  {
   "cell_type": "code",
   "execution_count": 173,
   "id": "b1015970-96ca-4458-b242-77bf746fafb9",
   "metadata": {},
   "outputs": [
    {
     "data": {
      "text/plain": [
       "a    -0.270733\n",
       "b     1.698893\n",
       "c    -0.572403\n",
       "d     0.393570\n",
       "e    12.000000\n",
       "dtype: float64"
      ]
     },
     "execution_count": 173,
     "metadata": {},
     "output_type": "execute_result"
    }
   ],
   "source": [
    "\"\"\"Following example will update the data of the given index\"\"\"\n",
    "s['e'] = 12.\n",
    "s # before updating e = 1.399281 but after updating e = 12.000000"
   ]
  },
  {
   "cell_type": "code",
   "execution_count": 175,
   "id": "ca577abf-4021-46cc-ba76-4b240f753a44",
   "metadata": {},
   "outputs": [
    {
     "data": {
      "text/plain": [
       "True"
      ]
     },
     "execution_count": 175,
     "metadata": {},
     "output_type": "execute_result"
    }
   ],
   "source": [
    "\"\"\" Following will return true if 'e' is in the values of index otherwise false\"\"\"\n",
    "'e' in s\n"
   ]
  },
  {
   "cell_type": "code",
   "execution_count": 177,
   "id": "c1c805c1-6629-470e-adb4-b567fe37a677",
   "metadata": {},
   "outputs": [
    {
     "ename": "KeyError",
     "evalue": "'f'",
     "output_type": "error",
     "traceback": [
      "\u001b[1;31m---------------------------------------------------------------------------\u001b[0m",
      "\u001b[1;31mKeyError\u001b[0m                                  Traceback (most recent call last)",
      "File \u001b[1;32m~\\anaconda3\\Lib\\site-packages\\pandas\\core\\indexes\\base.py:3791\u001b[0m, in \u001b[0;36mIndex.get_loc\u001b[1;34m(self, key)\u001b[0m\n\u001b[0;32m   3790\u001b[0m \u001b[38;5;28;01mtry\u001b[39;00m:\n\u001b[1;32m-> 3791\u001b[0m     \u001b[38;5;28;01mreturn\u001b[39;00m \u001b[38;5;28mself\u001b[39m\u001b[38;5;241m.\u001b[39m_engine\u001b[38;5;241m.\u001b[39mget_loc(casted_key)\n\u001b[0;32m   3792\u001b[0m \u001b[38;5;28;01mexcept\u001b[39;00m \u001b[38;5;167;01mKeyError\u001b[39;00m \u001b[38;5;28;01mas\u001b[39;00m err:\n",
      "File \u001b[1;32mindex.pyx:152\u001b[0m, in \u001b[0;36mpandas._libs.index.IndexEngine.get_loc\u001b[1;34m()\u001b[0m\n",
      "File \u001b[1;32mindex.pyx:181\u001b[0m, in \u001b[0;36mpandas._libs.index.IndexEngine.get_loc\u001b[1;34m()\u001b[0m\n",
      "File \u001b[1;32mpandas\\_libs\\hashtable_class_helper.pxi:7080\u001b[0m, in \u001b[0;36mpandas._libs.hashtable.PyObjectHashTable.get_item\u001b[1;34m()\u001b[0m\n",
      "File \u001b[1;32mpandas\\_libs\\hashtable_class_helper.pxi:7088\u001b[0m, in \u001b[0;36mpandas._libs.hashtable.PyObjectHashTable.get_item\u001b[1;34m()\u001b[0m\n",
      "\u001b[1;31mKeyError\u001b[0m: 'f'",
      "\nThe above exception was the direct cause of the following exception:\n",
      "\u001b[1;31mKeyError\u001b[0m                                  Traceback (most recent call last)",
      "Cell \u001b[1;32mIn[177], line 2\u001b[0m\n\u001b[0;32m      1\u001b[0m \u001b[38;5;124;03m\"\"\"If a label is not contained and you are trying to access its data, an exception is raised: \"\"\"\u001b[39;00m\n\u001b[1;32m----> 2\u001b[0m s[\u001b[38;5;124m'\u001b[39m\u001b[38;5;124mf\u001b[39m\u001b[38;5;124m'\u001b[39m]\n",
      "File \u001b[1;32m~\\anaconda3\\Lib\\site-packages\\pandas\\core\\series.py:1040\u001b[0m, in \u001b[0;36mSeries.__getitem__\u001b[1;34m(self, key)\u001b[0m\n\u001b[0;32m   1037\u001b[0m     \u001b[38;5;28;01mreturn\u001b[39;00m \u001b[38;5;28mself\u001b[39m\u001b[38;5;241m.\u001b[39m_values[key]\n\u001b[0;32m   1039\u001b[0m \u001b[38;5;28;01melif\u001b[39;00m key_is_scalar:\n\u001b[1;32m-> 1040\u001b[0m     \u001b[38;5;28;01mreturn\u001b[39;00m \u001b[38;5;28mself\u001b[39m\u001b[38;5;241m.\u001b[39m_get_value(key)\n\u001b[0;32m   1042\u001b[0m \u001b[38;5;66;03m# Convert generator to list before going through hashable part\u001b[39;00m\n\u001b[0;32m   1043\u001b[0m \u001b[38;5;66;03m# (We will iterate through the generator there to check for slices)\u001b[39;00m\n\u001b[0;32m   1044\u001b[0m \u001b[38;5;28;01mif\u001b[39;00m is_iterator(key):\n",
      "File \u001b[1;32m~\\anaconda3\\Lib\\site-packages\\pandas\\core\\series.py:1156\u001b[0m, in \u001b[0;36mSeries._get_value\u001b[1;34m(self, label, takeable)\u001b[0m\n\u001b[0;32m   1153\u001b[0m     \u001b[38;5;28;01mreturn\u001b[39;00m \u001b[38;5;28mself\u001b[39m\u001b[38;5;241m.\u001b[39m_values[label]\n\u001b[0;32m   1155\u001b[0m \u001b[38;5;66;03m# Similar to Index.get_value, but we do not fall back to positional\u001b[39;00m\n\u001b[1;32m-> 1156\u001b[0m loc \u001b[38;5;241m=\u001b[39m \u001b[38;5;28mself\u001b[39m\u001b[38;5;241m.\u001b[39mindex\u001b[38;5;241m.\u001b[39mget_loc(label)\n\u001b[0;32m   1158\u001b[0m \u001b[38;5;28;01mif\u001b[39;00m is_integer(loc):\n\u001b[0;32m   1159\u001b[0m     \u001b[38;5;28;01mreturn\u001b[39;00m \u001b[38;5;28mself\u001b[39m\u001b[38;5;241m.\u001b[39m_values[loc]\n",
      "File \u001b[1;32m~\\anaconda3\\Lib\\site-packages\\pandas\\core\\indexes\\base.py:3798\u001b[0m, in \u001b[0;36mIndex.get_loc\u001b[1;34m(self, key)\u001b[0m\n\u001b[0;32m   3793\u001b[0m     \u001b[38;5;28;01mif\u001b[39;00m \u001b[38;5;28misinstance\u001b[39m(casted_key, \u001b[38;5;28mslice\u001b[39m) \u001b[38;5;129;01mor\u001b[39;00m (\n\u001b[0;32m   3794\u001b[0m         \u001b[38;5;28misinstance\u001b[39m(casted_key, abc\u001b[38;5;241m.\u001b[39mIterable)\n\u001b[0;32m   3795\u001b[0m         \u001b[38;5;129;01mand\u001b[39;00m \u001b[38;5;28many\u001b[39m(\u001b[38;5;28misinstance\u001b[39m(x, \u001b[38;5;28mslice\u001b[39m) \u001b[38;5;28;01mfor\u001b[39;00m x \u001b[38;5;129;01min\u001b[39;00m casted_key)\n\u001b[0;32m   3796\u001b[0m     ):\n\u001b[0;32m   3797\u001b[0m         \u001b[38;5;28;01mraise\u001b[39;00m InvalidIndexError(key)\n\u001b[1;32m-> 3798\u001b[0m     \u001b[38;5;28;01mraise\u001b[39;00m \u001b[38;5;167;01mKeyError\u001b[39;00m(key) \u001b[38;5;28;01mfrom\u001b[39;00m \u001b[38;5;21;01merr\u001b[39;00m\n\u001b[0;32m   3799\u001b[0m \u001b[38;5;28;01mexcept\u001b[39;00m \u001b[38;5;167;01mTypeError\u001b[39;00m:\n\u001b[0;32m   3800\u001b[0m     \u001b[38;5;66;03m# If we have a listlike key, _check_indexing_error will raise\u001b[39;00m\n\u001b[0;32m   3801\u001b[0m     \u001b[38;5;66;03m#  InvalidIndexError. Otherwise we fall through and re-raise\u001b[39;00m\n\u001b[0;32m   3802\u001b[0m     \u001b[38;5;66;03m#  the TypeError.\u001b[39;00m\n\u001b[0;32m   3803\u001b[0m     \u001b[38;5;28mself\u001b[39m\u001b[38;5;241m.\u001b[39m_check_indexing_error(key)\n",
      "\u001b[1;31mKeyError\u001b[0m: 'f'"
     ]
    }
   ],
   "source": [
    "\"\"\"If a label is not contained and you are trying to access its data, an exception is raised: \"\"\"\n",
    "s['f']\n",
    "# This will create error\n"
   ]
  },
  {
   "cell_type": "markdown",
   "id": "3fcb4774-960f-4bae-96c8-03818d92997d",
   "metadata": {},
   "source": [
    "shows error because label 'f' does not exist in the Series s."
   ]
  },
  {
   "cell_type": "code",
   "execution_count": 182,
   "id": "a0a516ad-f763-433a-91af-76aba1872639",
   "metadata": {},
   "outputs": [
    {
     "data": {
      "text/plain": [
       "nan"
      ]
     },
     "execution_count": 182,
     "metadata": {},
     "output_type": "execute_result"
    }
   ],
   "source": [
    "\"\"\"Using the get method, a missing label will return None or specified default\"\"\"\n",
    "s.get('f') #it will return none\n",
    "s.get('f', np.nan) #it will return default value\n"
   ]
  },
  {
   "cell_type": "code",
   "execution_count": 184,
   "id": "1a9f2a86-ff10-4173-9934-5e22ed537fe9",
   "metadata": {},
   "outputs": [
    {
     "data": {
      "text/plain": [
       "a    -0.541466\n",
       "b     3.397785\n",
       "c    -1.144806\n",
       "d     0.787139\n",
       "e    24.000000\n",
       "dtype: float64"
      ]
     },
     "execution_count": 184,
     "metadata": {},
     "output_type": "execute_result"
    }
   ],
   "source": [
    "\"\"\"following will add the data of respective values of indexes. For example, in given output, it is calculate\n",
    "d as: a = s['a'] +\n",
    "s['a'] b = s['b'] +\n",
    "s['b'] c = s['c'] +\n",
    "s['c'] d = s['d'] +\n",
    "s['d'] e = s['e'] +\n",
    "s['e']\n",
    "\"\"\"\n",
    "s + s\n"
   ]
  },
  {
   "cell_type": "code",
   "execution_count": 186,
   "id": "f186f1db-5236-42f4-b788-81cc89498bbe",
   "metadata": {},
   "outputs": [
    {
     "data": {
      "text/plain": [
       "a    -0.541466\n",
       "b     3.397785\n",
       "c    -1.144806\n",
       "d     0.787139\n",
       "e    24.000000\n",
       "dtype: float64"
      ]
     },
     "execution_count": 186,
     "metadata": {},
     "output_type": "execute_result"
    }
   ],
   "source": [
    "\"\"\"following will multiply the data of each values of indexes, with 2. For example, in given output, it is ca\n",
    "lculated as:\n",
    "a = s['a'] *2\n",
    "b = s['b'] *2\n",
    "c = s['c'] *2\n",
    "d = s['d'] *2\n",
    "e = s['e'] *2\"\"\"\n",
    "s * 2\n"
   ]
  },
  {
   "cell_type": "code",
   "execution_count": 188,
   "id": "f17f2481-cfc1-4df4-b8e3-db0b5058d416",
   "metadata": {},
   "outputs": [
    {
     "data": {
      "text/plain": [
       "0    0.235606\n",
       "1   -0.490452\n",
       "2    0.728155\n",
       "3    0.673843\n",
       "4   -1.439389\n",
       "Name: something, dtype: float64"
      ]
     },
     "execution_count": 188,
     "metadata": {},
     "output_type": "execute_result"
    }
   ],
   "source": [
    "s = pd.Series(np.random.randn(5), name='something')\n",
    "s"
   ]
  },
  {
   "cell_type": "code",
   "execution_count": 190,
   "id": "7cfcafea-b55b-4957-b5c6-743e0c8a37c5",
   "metadata": {},
   "outputs": [
    {
     "data": {
      "text/plain": [
       "'something'"
      ]
     },
     "execution_count": 190,
     "metadata": {},
     "output_type": "execute_result"
    }
   ],
   "source": [
    "s.name #print the name attribute of series\n"
   ]
  },
  {
   "cell_type": "code",
   "execution_count": 193,
   "id": "40000db6-d91b-45e0-9187-669a28799e96",
   "metadata": {},
   "outputs": [
    {
     "data": {
      "text/plain": [
       "'different'"
      ]
     },
     "execution_count": 193,
     "metadata": {},
     "output_type": "execute_result"
    }
   ],
   "source": [
    "#rename the series name attribute and assign to s2 object. Note that s and s2 refer to different objects.\n",
    "s2 = s.rename(\"different\")\n",
    "s2.name\n"
   ]
  },
  {
   "cell_type": "markdown",
   "id": "32571630-2c4b-4c0f-a49c-a672ec3a632d",
   "metadata": {},
   "source": [
    "# 11. Data Frames"
   ]
  },
  {
   "cell_type": "code",
   "execution_count": 198,
   "id": "1c56a148-4673-4f11-9a2b-716a05551166",
   "metadata": {},
   "outputs": [
    {
     "data": {
      "text/html": [
       "<div>\n",
       "<style scoped>\n",
       "    .dataframe tbody tr th:only-of-type {\n",
       "        vertical-align: middle;\n",
       "    }\n",
       "\n",
       "    .dataframe tbody tr th {\n",
       "        vertical-align: top;\n",
       "    }\n",
       "\n",
       "    .dataframe thead th {\n",
       "        text-align: right;\n",
       "    }\n",
       "</style>\n",
       "<table border=\"1\" class=\"dataframe\">\n",
       "  <thead>\n",
       "    <tr style=\"text-align: right;\">\n",
       "      <th></th>\n",
       "      <th>one</th>\n",
       "      <th>two</th>\n",
       "    </tr>\n",
       "  </thead>\n",
       "  <tbody>\n",
       "    <tr>\n",
       "      <th>a</th>\n",
       "      <td>1.0</td>\n",
       "      <td>1.0</td>\n",
       "    </tr>\n",
       "    <tr>\n",
       "      <th>b</th>\n",
       "      <td>2.0</td>\n",
       "      <td>2.0</td>\n",
       "    </tr>\n",
       "    <tr>\n",
       "      <th>c</th>\n",
       "      <td>3.0</td>\n",
       "      <td>3.0</td>\n",
       "    </tr>\n",
       "    <tr>\n",
       "      <th>d</th>\n",
       "      <td>NaN</td>\n",
       "      <td>4.0</td>\n",
       "    </tr>\n",
       "  </tbody>\n",
       "</table>\n",
       "</div>"
      ],
      "text/plain": [
       "   one  two\n",
       "a  1.0  1.0\n",
       "b  2.0  2.0\n",
       "c  3.0  3.0\n",
       "d  NaN  4.0"
      ]
     },
     "execution_count": 198,
     "metadata": {},
     "output_type": "execute_result"
    }
   ],
   "source": [
    "\"\"\" A dict is created \"\"\"\n",
    "d = {\n",
    "'one' : pd.Series([1., 2., 3.], index=['a', 'b', 'c']),\n",
    "'two' : pd.Series([1., 2., 3., 4.], index=['a', 'b', 'c', 'd'])\n",
    "}\n",
    "\"\"\"create a dataframe. row label will be the indes of a series. As coloum labels are not given so it\n",
    "will be sorted list of dict keys\"\"\"\n",
    "df=pd.DataFrame(d)\n",
    "df"
   ]
  },
  {
   "cell_type": "code",
   "execution_count": 200,
   "id": "8e618e8d-c5c6-41e6-994c-febd4894e99e",
   "metadata": {},
   "outputs": [
    {
     "data": {
      "text/html": [
       "<div>\n",
       "<style scoped>\n",
       "    .dataframe tbody tr th:only-of-type {\n",
       "        vertical-align: middle;\n",
       "    }\n",
       "\n",
       "    .dataframe tbody tr th {\n",
       "        vertical-align: top;\n",
       "    }\n",
       "\n",
       "    .dataframe thead th {\n",
       "        text-align: right;\n",
       "    }\n",
       "</style>\n",
       "<table border=\"1\" class=\"dataframe\">\n",
       "  <thead>\n",
       "    <tr style=\"text-align: right;\">\n",
       "      <th></th>\n",
       "      <th>one</th>\n",
       "      <th>two</th>\n",
       "    </tr>\n",
       "  </thead>\n",
       "  <tbody>\n",
       "    <tr>\n",
       "      <th>d</th>\n",
       "      <td>NaN</td>\n",
       "      <td>4.0</td>\n",
       "    </tr>\n",
       "    <tr>\n",
       "      <th>b</th>\n",
       "      <td>2.0</td>\n",
       "      <td>2.0</td>\n",
       "    </tr>\n",
       "    <tr>\n",
       "      <th>a</th>\n",
       "      <td>1.0</td>\n",
       "      <td>1.0</td>\n",
       "    </tr>\n",
       "  </tbody>\n",
       "</table>\n",
       "</div>"
      ],
      "text/plain": [
       "   one  two\n",
       "d  NaN  4.0\n",
       "b  2.0  2.0\n",
       "a  1.0  1.0"
      ]
     },
     "execution_count": 200,
     "metadata": {},
     "output_type": "execute_result"
    }
   ],
   "source": [
    "\"\"\" a data frame will be constructed for given row labels\"\"\"\n",
    "pd.DataFrame(d, index=['d', 'b', 'a'])\n"
   ]
  },
  {
   "cell_type": "code",
   "execution_count": 202,
   "id": "820cfe42-f36c-4226-9487-e2b4dd3aa73d",
   "metadata": {},
   "outputs": [
    {
     "data": {
      "text/html": [
       "<div>\n",
       "<style scoped>\n",
       "    .dataframe tbody tr th:only-of-type {\n",
       "        vertical-align: middle;\n",
       "    }\n",
       "\n",
       "    .dataframe tbody tr th {\n",
       "        vertical-align: top;\n",
       "    }\n",
       "\n",
       "    .dataframe thead th {\n",
       "        text-align: right;\n",
       "    }\n",
       "</style>\n",
       "<table border=\"1\" class=\"dataframe\">\n",
       "  <thead>\n",
       "    <tr style=\"text-align: right;\">\n",
       "      <th></th>\n",
       "      <th>two</th>\n",
       "      <th>three</th>\n",
       "    </tr>\n",
       "  </thead>\n",
       "  <tbody>\n",
       "    <tr>\n",
       "      <th>d</th>\n",
       "      <td>4.0</td>\n",
       "      <td>NaN</td>\n",
       "    </tr>\n",
       "    <tr>\n",
       "      <th>b</th>\n",
       "      <td>2.0</td>\n",
       "      <td>NaN</td>\n",
       "    </tr>\n",
       "    <tr>\n",
       "      <th>a</th>\n",
       "      <td>1.0</td>\n",
       "      <td>NaN</td>\n",
       "    </tr>\n",
       "  </tbody>\n",
       "</table>\n",
       "</div>"
      ],
      "text/plain": [
       "   two three\n",
       "d  4.0   NaN\n",
       "b  2.0   NaN\n",
       "a  1.0   NaN"
      ]
     },
     "execution_count": 202,
     "metadata": {},
     "output_type": "execute_result"
    }
   ],
   "source": [
    "\"\"\"following example shows a data frame when we give coloumn labels\"\"\"\n",
    "pd.DataFrame(d, index=['d', 'b', 'a'], columns=['two', 'three'])"
   ]
  },
  {
   "cell_type": "code",
   "execution_count": 204,
   "id": "a90074b8-f92b-4c0c-bdb4-35f730773530",
   "metadata": {},
   "outputs": [
    {
     "data": {
      "text/plain": [
       "Index(['one', 'two'], dtype='object')"
      ]
     },
     "execution_count": 204,
     "metadata": {},
     "output_type": "execute_result"
    }
   ],
   "source": [
    "df.columns"
   ]
  },
  {
   "cell_type": "code",
   "execution_count": 206,
   "id": "06800ade-7dd1-4bfa-aa6c-e02ec17e5d3a",
   "metadata": {},
   "outputs": [],
   "source": [
    "\"\"\"followind examples shows that ndarray has same length\"\"\"\n",
    "d = {\n",
    "'one' : [1., 2., 3., 4.],\n",
    "'two' : [4., 3., 2., 1.]\n",
    "}\n"
   ]
  },
  {
   "cell_type": "code",
   "execution_count": 208,
   "id": "bbc1375c-e09f-40e6-8d18-5142e493f11b",
   "metadata": {},
   "outputs": [
    {
     "data": {
      "text/html": [
       "<div>\n",
       "<style scoped>\n",
       "    .dataframe tbody tr th:only-of-type {\n",
       "        vertical-align: middle;\n",
       "    }\n",
       "\n",
       "    .dataframe tbody tr th {\n",
       "        vertical-align: top;\n",
       "    }\n",
       "\n",
       "    .dataframe thead th {\n",
       "        text-align: right;\n",
       "    }\n",
       "</style>\n",
       "<table border=\"1\" class=\"dataframe\">\n",
       "  <thead>\n",
       "    <tr style=\"text-align: right;\">\n",
       "      <th></th>\n",
       "      <th>one</th>\n",
       "      <th>two</th>\n",
       "    </tr>\n",
       "  </thead>\n",
       "  <tbody>\n",
       "    <tr>\n",
       "      <th>a</th>\n",
       "      <td>1.0</td>\n",
       "      <td>4.0</td>\n",
       "    </tr>\n",
       "    <tr>\n",
       "      <th>b</th>\n",
       "      <td>2.0</td>\n",
       "      <td>3.0</td>\n",
       "    </tr>\n",
       "    <tr>\n",
       "      <th>c</th>\n",
       "      <td>3.0</td>\n",
       "      <td>2.0</td>\n",
       "    </tr>\n",
       "    <tr>\n",
       "      <th>d</th>\n",
       "      <td>4.0</td>\n",
       "      <td>1.0</td>\n",
       "    </tr>\n",
       "  </tbody>\n",
       "</table>\n",
       "</div>"
      ],
      "text/plain": [
       "   one  two\n",
       "a  1.0  4.0\n",
       "b  2.0  3.0\n",
       "c  3.0  2.0\n",
       "d  4.0  1.0"
      ]
     },
     "execution_count": 208,
     "metadata": {},
     "output_type": "execute_result"
    }
   ],
   "source": [
    "\"\"\"If indexs are given then it would be same length as arrays\"\"\"\n",
    "pd.DataFrame(d, index=['a', 'b', 'c', 'd'])\n"
   ]
  },
  {
   "cell_type": "code",
   "execution_count": 210,
   "id": "a6b25c14-c30f-4636-ac4b-af6f6bb09d6b",
   "metadata": {},
   "outputs": [
    {
     "data": {
      "text/html": [
       "<div>\n",
       "<style scoped>\n",
       "    .dataframe tbody tr th:only-of-type {\n",
       "        vertical-align: middle;\n",
       "    }\n",
       "\n",
       "    .dataframe tbody tr th {\n",
       "        vertical-align: top;\n",
       "    }\n",
       "\n",
       "    .dataframe thead th {\n",
       "        text-align: right;\n",
       "    }\n",
       "</style>\n",
       "<table border=\"1\" class=\"dataframe\">\n",
       "  <thead>\n",
       "    <tr style=\"text-align: right;\">\n",
       "      <th></th>\n",
       "      <th>a</th>\n",
       "      <th>b</th>\n",
       "      <th>c</th>\n",
       "    </tr>\n",
       "  </thead>\n",
       "  <tbody>\n",
       "    <tr>\n",
       "      <th>0</th>\n",
       "      <td>1</td>\n",
       "      <td>2</td>\n",
       "      <td>NaN</td>\n",
       "    </tr>\n",
       "    <tr>\n",
       "      <th>1</th>\n",
       "      <td>5</td>\n",
       "      <td>10</td>\n",
       "      <td>20.0</td>\n",
       "    </tr>\n",
       "  </tbody>\n",
       "</table>\n",
       "</div>"
      ],
      "text/plain": [
       "   a   b     c\n",
       "0  1   2   NaN\n",
       "1  5  10  20.0"
      ]
     },
     "execution_count": 210,
     "metadata": {},
     "output_type": "execute_result"
    }
   ],
   "source": [
    " \"\"\"constructing data frame from a list of dicts\"\"\"\n",
    "data2 = [{'a': 1, 'b': 2}, {'a': 5, 'b': 10, 'c': 20}]\n",
    "pd.DataFrame(data2)"
   ]
  },
  {
   "cell_type": "code",
   "execution_count": 212,
   "id": "fb4fc4ab-22fc-434a-bc7a-6ba1b7bf0267",
   "metadata": {},
   "outputs": [
    {
     "data": {
      "text/html": [
       "<div>\n",
       "<style scoped>\n",
       "    .dataframe tbody tr th:only-of-type {\n",
       "        vertical-align: middle;\n",
       "    }\n",
       "\n",
       "    .dataframe tbody tr th {\n",
       "        vertical-align: top;\n",
       "    }\n",
       "\n",
       "    .dataframe thead th {\n",
       "        text-align: right;\n",
       "    }\n",
       "</style>\n",
       "<table border=\"1\" class=\"dataframe\">\n",
       "  <thead>\n",
       "    <tr style=\"text-align: right;\">\n",
       "      <th></th>\n",
       "      <th>a</th>\n",
       "      <th>b</th>\n",
       "      <th>c</th>\n",
       "    </tr>\n",
       "  </thead>\n",
       "  <tbody>\n",
       "    <tr>\n",
       "      <th>first</th>\n",
       "      <td>1</td>\n",
       "      <td>2</td>\n",
       "      <td>NaN</td>\n",
       "    </tr>\n",
       "    <tr>\n",
       "      <th>second</th>\n",
       "      <td>5</td>\n",
       "      <td>10</td>\n",
       "      <td>20.0</td>\n",
       "    </tr>\n",
       "  </tbody>\n",
       "</table>\n",
       "</div>"
      ],
      "text/plain": [
       "        a   b     c\n",
       "first   1   2   NaN\n",
       "second  5  10  20.0"
      ]
     },
     "execution_count": 212,
     "metadata": {},
     "output_type": "execute_result"
    }
   ],
   "source": [
    " \"\"\"passing list of dicts as data and indexes (row labels)\"\"\"\n",
    "pd.DataFrame(data2, index=['first', 'second'])\n"
   ]
  },
  {
   "cell_type": "code",
   "execution_count": 214,
   "id": "32db5dd7-deac-41b8-af5a-bf966cfb9981",
   "metadata": {},
   "outputs": [
    {
     "data": {
      "text/html": [
       "<div>\n",
       "<style scoped>\n",
       "    .dataframe tbody tr th:only-of-type {\n",
       "        vertical-align: middle;\n",
       "    }\n",
       "\n",
       "    .dataframe tbody tr th {\n",
       "        vertical-align: top;\n",
       "    }\n",
       "\n",
       "    .dataframe thead th {\n",
       "        text-align: right;\n",
       "    }\n",
       "</style>\n",
       "<table border=\"1\" class=\"dataframe\">\n",
       "  <thead>\n",
       "    <tr style=\"text-align: right;\">\n",
       "      <th></th>\n",
       "      <th>a</th>\n",
       "      <th>b</th>\n",
       "    </tr>\n",
       "  </thead>\n",
       "  <tbody>\n",
       "    <tr>\n",
       "      <th>0</th>\n",
       "      <td>1</td>\n",
       "      <td>2</td>\n",
       "    </tr>\n",
       "    <tr>\n",
       "      <th>1</th>\n",
       "      <td>5</td>\n",
       "      <td>10</td>\n",
       "    </tr>\n",
       "  </tbody>\n",
       "</table>\n",
       "</div>"
      ],
      "text/plain": [
       "   a   b\n",
       "0  1   2\n",
       "1  5  10"
      ]
     },
     "execution_count": 214,
     "metadata": {},
     "output_type": "execute_result"
    }
   ],
   "source": [
    "\"\"\"passing list of dicts as data and columns (columns labels)\"\"\"\n",
    "pd.DataFrame(data2, columns=['a', 'b'])\n"
   ]
  },
  {
   "cell_type": "code",
   "execution_count": 216,
   "id": "1cc4ec6b-be27-4271-8b40-920f13b90527",
   "metadata": {},
   "outputs": [
    {
     "data": {
      "text/html": [
       "<div>\n",
       "<style scoped>\n",
       "    .dataframe tbody tr th:only-of-type {\n",
       "        vertical-align: middle;\n",
       "    }\n",
       "\n",
       "    .dataframe tbody tr th {\n",
       "        vertical-align: top;\n",
       "    }\n",
       "\n",
       "    .dataframe thead tr th {\n",
       "        text-align: left;\n",
       "    }\n",
       "</style>\n",
       "<table border=\"1\" class=\"dataframe\">\n",
       "  <thead>\n",
       "    <tr>\n",
       "      <th></th>\n",
       "      <th></th>\n",
       "      <th colspan=\"3\" halign=\"left\">a</th>\n",
       "      <th colspan=\"2\" halign=\"left\">b</th>\n",
       "    </tr>\n",
       "    <tr>\n",
       "      <th></th>\n",
       "      <th></th>\n",
       "      <th>b</th>\n",
       "      <th>a</th>\n",
       "      <th>c</th>\n",
       "      <th>a</th>\n",
       "      <th>b</th>\n",
       "    </tr>\n",
       "  </thead>\n",
       "  <tbody>\n",
       "    <tr>\n",
       "      <th rowspan=\"3\" valign=\"top\">A</th>\n",
       "      <th>B</th>\n",
       "      <td>1.0</td>\n",
       "      <td>4.0</td>\n",
       "      <td>5.0</td>\n",
       "      <td>8.0</td>\n",
       "      <td>10.0</td>\n",
       "    </tr>\n",
       "    <tr>\n",
       "      <th>C</th>\n",
       "      <td>2.0</td>\n",
       "      <td>3.0</td>\n",
       "      <td>6.0</td>\n",
       "      <td>7.0</td>\n",
       "      <td>NaN</td>\n",
       "    </tr>\n",
       "    <tr>\n",
       "      <th>D</th>\n",
       "      <td>NaN</td>\n",
       "      <td>NaN</td>\n",
       "      <td>NaN</td>\n",
       "      <td>NaN</td>\n",
       "      <td>9.0</td>\n",
       "    </tr>\n",
       "  </tbody>\n",
       "</table>\n",
       "</div>"
      ],
      "text/plain": [
       "       a              b      \n",
       "       b    a    c    a     b\n",
       "A B  1.0  4.0  5.0  8.0  10.0\n",
       "  C  2.0  3.0  6.0  7.0   NaN\n",
       "  D  NaN  NaN  NaN  NaN   9.0"
      ]
     },
     "execution_count": 216,
     "metadata": {},
     "output_type": "execute_result"
    }
   ],
   "source": [
    "pd.DataFrame({('a', 'b'): {('A', 'B'): 1, ('A', 'C'): 2},\n",
    "('a', 'a'): {('A', 'C'): 3, ('A', 'B'): 4},\n",
    "('a', 'c'): {('A', 'B'): 5, ('A', 'C'): 6},\n",
    "('b', 'a'): {('A', 'C'): 7, ('A', 'B'): 8},\n",
    "('b', 'b'): {('A', 'D'): 9, ('A', 'B'): 10}})\n",
    "#\"NaN shows missing data"
   ]
  },
  {
   "cell_type": "code",
   "execution_count": 218,
   "id": "a51bad9c-44ec-4ffe-b947-4683e0bbd986",
   "metadata": {},
   "outputs": [
    {
     "data": {
      "text/plain": [
       "array([(0, 0., b''), (0, 0., b'')],\n",
       "      dtype=[('A', '<i4'), ('B', '<f4'), ('C', 'S10')])"
      ]
     },
     "execution_count": 218,
     "metadata": {},
     "output_type": "execute_result"
    }
   ],
   "source": [
    "data = np.zeros((2,), dtype=[('A', 'i4'),('B', 'f4'),('C', 'a10')])\n",
    "data\n"
   ]
  },
  {
   "cell_type": "code",
   "execution_count": 226,
   "id": "275db12d-032d-4cd6-91d2-66d6be482543",
   "metadata": {},
   "outputs": [
    {
     "data": {
      "text/html": [
       "<div>\n",
       "<style scoped>\n",
       "    .dataframe tbody tr th:only-of-type {\n",
       "        vertical-align: middle;\n",
       "    }\n",
       "\n",
       "    .dataframe tbody tr th {\n",
       "        vertical-align: top;\n",
       "    }\n",
       "\n",
       "    .dataframe thead th {\n",
       "        text-align: right;\n",
       "    }\n",
       "</style>\n",
       "<table border=\"1\" class=\"dataframe\">\n",
       "  <thead>\n",
       "    <tr style=\"text-align: right;\">\n",
       "      <th></th>\n",
       "      <th>A</th>\n",
       "      <th>B</th>\n",
       "    </tr>\n",
       "    <tr>\n",
       "      <th>C</th>\n",
       "      <th></th>\n",
       "      <th></th>\n",
       "    </tr>\n",
       "  </thead>\n",
       "  <tbody>\n",
       "    <tr>\n",
       "      <th>b''</th>\n",
       "      <td>0</td>\n",
       "      <td>0.0</td>\n",
       "    </tr>\n",
       "    <tr>\n",
       "      <th>b''</th>\n",
       "      <td>0</td>\n",
       "      <td>0.0</td>\n",
       "    </tr>\n",
       "  </tbody>\n",
       "</table>\n",
       "</div>"
      ],
      "text/plain": [
       "     A    B\n",
       "C          \n",
       "b''  0  0.0\n",
       "b''  0  0.0"
      ]
     },
     "execution_count": 226,
     "metadata": {},
     "output_type": "execute_result"
    }
   ],
   "source": [
    "pd.DataFrame.from_records(data, index='C')"
   ]
  },
  {
   "cell_type": "code",
   "execution_count": 230,
   "id": "1e2c779b-64ca-4d39-a3d5-626730054878",
   "metadata": {},
   "outputs": [
    {
     "name": "stdout",
     "output_type": "stream",
     "text": [
      "   A  B\n",
      "0  1  4\n",
      "1  2  5\n",
      "2  3  6\n"
     ]
    }
   ],
   "source": [
    "df = pd.DataFrame({'A': [1, 2, 3], 'B': [4, 5, 6]})\n",
    "print(df)"
   ]
  },
  {
   "cell_type": "code",
   "execution_count": 242,
   "id": "5a5ee678-5bca-4a34-9f82-5fbef8ae1c24",
   "metadata": {},
   "outputs": [
    {
     "name": "stdout",
     "output_type": "stream",
     "text": [
      "   one  two  three\n",
      "A    1    2      3\n",
      "B    4    5      6\n"
     ]
    }
   ],
   "source": [
    "data = {'A': [1, 2, 3], 'B': [4, 5, 6]}\n",
    "df = pd.DataFrame.from_dict(data, orient='index', columns=['one', 'two', 'three'])\n",
    "print(df)"
   ]
  },
  {
   "cell_type": "code",
   "execution_count": 244,
   "id": "d4d1d3ba-6c54-4bae-be57-143eedb66f09",
   "metadata": {},
   "outputs": [
    {
     "data": {
      "text/plain": [
       "A    1\n",
       "B    4\n",
       "Name: one, dtype: int64"
      ]
     },
     "execution_count": 244,
     "metadata": {},
     "output_type": "execute_result"
    }
   ],
   "source": [
    "df['one'] # it is displaying data under coloumn 'one'"
   ]
  },
  {
   "cell_type": "code",
   "execution_count": 246,
   "id": "08238a90-6109-496d-856c-675770e47398",
   "metadata": {},
   "outputs": [],
   "source": [
    "df['three'] = df['one'] * df['two'] # assigning values to a colomn named 'three' after calculation\n"
   ]
  },
  {
   "cell_type": "code",
   "execution_count": 248,
   "id": "c0a55273-452b-4313-97d4-81d027211c81",
   "metadata": {},
   "outputs": [],
   "source": [
    " df['flag'] = df['one'] > 2 #check if value at column 'one' is > 2 then assign True otherwise false"
   ]
  },
  {
   "cell_type": "code",
   "execution_count": 250,
   "id": "a383b58d-6668-4959-afdd-b4df20c32399",
   "metadata": {},
   "outputs": [
    {
     "data": {
      "text/html": [
       "<div>\n",
       "<style scoped>\n",
       "    .dataframe tbody tr th:only-of-type {\n",
       "        vertical-align: middle;\n",
       "    }\n",
       "\n",
       "    .dataframe tbody tr th {\n",
       "        vertical-align: top;\n",
       "    }\n",
       "\n",
       "    .dataframe thead th {\n",
       "        text-align: right;\n",
       "    }\n",
       "</style>\n",
       "<table border=\"1\" class=\"dataframe\">\n",
       "  <thead>\n",
       "    <tr style=\"text-align: right;\">\n",
       "      <th></th>\n",
       "      <th>one</th>\n",
       "      <th>two</th>\n",
       "      <th>three</th>\n",
       "      <th>flag</th>\n",
       "    </tr>\n",
       "  </thead>\n",
       "  <tbody>\n",
       "    <tr>\n",
       "      <th>A</th>\n",
       "      <td>1</td>\n",
       "      <td>2</td>\n",
       "      <td>2</td>\n",
       "      <td>False</td>\n",
       "    </tr>\n",
       "    <tr>\n",
       "      <th>B</th>\n",
       "      <td>4</td>\n",
       "      <td>5</td>\n",
       "      <td>20</td>\n",
       "      <td>True</td>\n",
       "    </tr>\n",
       "  </tbody>\n",
       "</table>\n",
       "</div>"
      ],
      "text/plain": [
       "   one  two  three   flag\n",
       "A    1    2      2  False\n",
       "B    4    5     20   True"
      ]
     },
     "execution_count": 250,
     "metadata": {},
     "output_type": "execute_result"
    }
   ],
   "source": [
    " df #print a complete data frame"
   ]
  },
  {
   "cell_type": "code",
   "execution_count": 252,
   "id": "666c7dfc-a189-4da3-b5d3-e0312255b742",
   "metadata": {},
   "outputs": [],
   "source": [
    "del df['two'] #delete a coloumn 'two' from data frame"
   ]
  },
  {
   "cell_type": "code",
   "execution_count": 254,
   "id": "372bf715-df10-4bc2-bf8e-82c39802abd1",
   "metadata": {},
   "outputs": [],
   "source": [
    "three = df.pop('three') #pop a complete coloumn 'three' from dataframe"
   ]
  },
  {
   "cell_type": "code",
   "execution_count": 256,
   "id": "6a738297-0b3f-4d81-8923-f8dc8cb206ef",
   "metadata": {},
   "outputs": [
    {
     "data": {
      "text/html": [
       "<div>\n",
       "<style scoped>\n",
       "    .dataframe tbody tr th:only-of-type {\n",
       "        vertical-align: middle;\n",
       "    }\n",
       "\n",
       "    .dataframe tbody tr th {\n",
       "        vertical-align: top;\n",
       "    }\n",
       "\n",
       "    .dataframe thead th {\n",
       "        text-align: right;\n",
       "    }\n",
       "</style>\n",
       "<table border=\"1\" class=\"dataframe\">\n",
       "  <thead>\n",
       "    <tr style=\"text-align: right;\">\n",
       "      <th></th>\n",
       "      <th>one</th>\n",
       "      <th>flag</th>\n",
       "    </tr>\n",
       "  </thead>\n",
       "  <tbody>\n",
       "    <tr>\n",
       "      <th>A</th>\n",
       "      <td>1</td>\n",
       "      <td>False</td>\n",
       "    </tr>\n",
       "    <tr>\n",
       "      <th>B</th>\n",
       "      <td>4</td>\n",
       "      <td>True</td>\n",
       "    </tr>\n",
       "  </tbody>\n",
       "</table>\n",
       "</div>"
      ],
      "text/plain": [
       "   one   flag\n",
       "A    1  False\n",
       "B    4   True"
      ]
     },
     "execution_count": 256,
     "metadata": {},
     "output_type": "execute_result"
    }
   ],
   "source": [
    "df"
   ]
  },
  {
   "cell_type": "code",
   "execution_count": 258,
   "id": "0d0cf7f8-0219-4bb2-87cc-2c8e2091c171",
   "metadata": {},
   "outputs": [],
   "source": [
    "df['foo'] = 'bar' #a coloumn 'foo' will be populated with 'bar'"
   ]
  },
  {
   "cell_type": "code",
   "execution_count": 260,
   "id": "261429be-f3cd-4c4b-b52e-f8d897222667",
   "metadata": {},
   "outputs": [
    {
     "data": {
      "text/html": [
       "<div>\n",
       "<style scoped>\n",
       "    .dataframe tbody tr th:only-of-type {\n",
       "        vertical-align: middle;\n",
       "    }\n",
       "\n",
       "    .dataframe tbody tr th {\n",
       "        vertical-align: top;\n",
       "    }\n",
       "\n",
       "    .dataframe thead th {\n",
       "        text-align: right;\n",
       "    }\n",
       "</style>\n",
       "<table border=\"1\" class=\"dataframe\">\n",
       "  <thead>\n",
       "    <tr style=\"text-align: right;\">\n",
       "      <th></th>\n",
       "      <th>one</th>\n",
       "      <th>flag</th>\n",
       "      <th>foo</th>\n",
       "    </tr>\n",
       "  </thead>\n",
       "  <tbody>\n",
       "    <tr>\n",
       "      <th>A</th>\n",
       "      <td>1</td>\n",
       "      <td>False</td>\n",
       "      <td>bar</td>\n",
       "    </tr>\n",
       "    <tr>\n",
       "      <th>B</th>\n",
       "      <td>4</td>\n",
       "      <td>True</td>\n",
       "      <td>bar</td>\n",
       "    </tr>\n",
       "  </tbody>\n",
       "</table>\n",
       "</div>"
      ],
      "text/plain": [
       "   one   flag  foo\n",
       "A    1  False  bar\n",
       "B    4   True  bar"
      ]
     },
     "execution_count": 260,
     "metadata": {},
     "output_type": "execute_result"
    }
   ],
   "source": [
    "df"
   ]
  },
  {
   "cell_type": "code",
   "execution_count": 262,
   "id": "98a73d2e-59fc-4b9a-8969-f56adeebdee8",
   "metadata": {},
   "outputs": [],
   "source": [
    "\"\"\"following example will take values from coloumn one until give range and will populate the new coloumn\"\"\"\n",
    "df['one_trunc'] = df['one'][:2]"
   ]
  },
  {
   "cell_type": "code",
   "execution_count": 264,
   "id": "f84c5f6d-754d-4df2-a2b5-d0979bd211d7",
   "metadata": {},
   "outputs": [
    {
     "data": {
      "text/html": [
       "<div>\n",
       "<style scoped>\n",
       "    .dataframe tbody tr th:only-of-type {\n",
       "        vertical-align: middle;\n",
       "    }\n",
       "\n",
       "    .dataframe tbody tr th {\n",
       "        vertical-align: top;\n",
       "    }\n",
       "\n",
       "    .dataframe thead th {\n",
       "        text-align: right;\n",
       "    }\n",
       "</style>\n",
       "<table border=\"1\" class=\"dataframe\">\n",
       "  <thead>\n",
       "    <tr style=\"text-align: right;\">\n",
       "      <th></th>\n",
       "      <th>one</th>\n",
       "      <th>flag</th>\n",
       "      <th>foo</th>\n",
       "      <th>one_trunc</th>\n",
       "    </tr>\n",
       "  </thead>\n",
       "  <tbody>\n",
       "    <tr>\n",
       "      <th>A</th>\n",
       "      <td>1</td>\n",
       "      <td>False</td>\n",
       "      <td>bar</td>\n",
       "      <td>1</td>\n",
       "    </tr>\n",
       "    <tr>\n",
       "      <th>B</th>\n",
       "      <td>4</td>\n",
       "      <td>True</td>\n",
       "      <td>bar</td>\n",
       "      <td>4</td>\n",
       "    </tr>\n",
       "  </tbody>\n",
       "</table>\n",
       "</div>"
      ],
      "text/plain": [
       "   one   flag  foo  one_trunc\n",
       "A    1  False  bar          1\n",
       "B    4   True  bar          4"
      ]
     },
     "execution_count": 264,
     "metadata": {},
     "output_type": "execute_result"
    }
   ],
   "source": [
    "df"
   ]
  },
  {
   "cell_type": "code",
   "execution_count": 266,
   "id": "dab4c1e3-545c-4082-9973-e3aea81ef510",
   "metadata": {},
   "outputs": [],
   "source": [
    "\"\"\"following function has three arguments.\n",
    "First argument: index where new coloumn will be inserted.\n",
    "Second argument: label or title of a new coloumn\n",
    "Third argument: it will create a coloumn at specified position\"\"\"\n",
    "df.insert(1, 'bar2', df['one'])"
   ]
  },
  {
   "cell_type": "code",
   "execution_count": 283,
   "id": "bcf77629-3c1e-4a04-8084-937ab962b519",
   "metadata": {},
   "outputs": [
    {
     "data": {
      "text/html": [
       "<div>\n",
       "<style scoped>\n",
       "    .dataframe tbody tr th:only-of-type {\n",
       "        vertical-align: middle;\n",
       "    }\n",
       "\n",
       "    .dataframe tbody tr th {\n",
       "        vertical-align: top;\n",
       "    }\n",
       "\n",
       "    .dataframe thead th {\n",
       "        text-align: right;\n",
       "    }\n",
       "</style>\n",
       "<table border=\"1\" class=\"dataframe\">\n",
       "  <thead>\n",
       "    <tr style=\"text-align: right;\">\n",
       "      <th></th>\n",
       "      <th>A</th>\n",
       "      <th>B</th>\n",
       "      <th>C</th>\n",
       "      <th>D</th>\n",
       "    </tr>\n",
       "  </thead>\n",
       "  <tbody>\n",
       "    <tr>\n",
       "      <th>0</th>\n",
       "      <td>0.616486</td>\n",
       "      <td>-1.334718</td>\n",
       "      <td>1.529231</td>\n",
       "      <td>0.842195</td>\n",
       "    </tr>\n",
       "    <tr>\n",
       "      <th>1</th>\n",
       "      <td>-0.048407</td>\n",
       "      <td>0.207938</td>\n",
       "      <td>2.822052</td>\n",
       "      <td>0.681856</td>\n",
       "    </tr>\n",
       "    <tr>\n",
       "      <th>2</th>\n",
       "      <td>-0.366068</td>\n",
       "      <td>0.184808</td>\n",
       "      <td>-0.208420</td>\n",
       "      <td>0.907698</td>\n",
       "    </tr>\n",
       "    <tr>\n",
       "      <th>3</th>\n",
       "      <td>1.254615</td>\n",
       "      <td>0.824373</td>\n",
       "      <td>0.357837</td>\n",
       "      <td>-1.348405</td>\n",
       "    </tr>\n",
       "    <tr>\n",
       "      <th>4</th>\n",
       "      <td>0.479829</td>\n",
       "      <td>0.156915</td>\n",
       "      <td>-1.290546</td>\n",
       "      <td>0.976857</td>\n",
       "    </tr>\n",
       "    <tr>\n",
       "      <th>5</th>\n",
       "      <td>-0.964573</td>\n",
       "      <td>1.235992</td>\n",
       "      <td>2.492236</td>\n",
       "      <td>-0.989369</td>\n",
       "    </tr>\n",
       "    <tr>\n",
       "      <th>6</th>\n",
       "      <td>0.285100</td>\n",
       "      <td>1.180833</td>\n",
       "      <td>0.366589</td>\n",
       "      <td>0.094721</td>\n",
       "    </tr>\n",
       "    <tr>\n",
       "      <th>7</th>\n",
       "      <td>-0.977490</td>\n",
       "      <td>0.619442</td>\n",
       "      <td>-1.359105</td>\n",
       "      <td>0.686598</td>\n",
       "    </tr>\n",
       "    <tr>\n",
       "      <th>8</th>\n",
       "      <td>0.573547</td>\n",
       "      <td>1.138470</td>\n",
       "      <td>-0.523836</td>\n",
       "      <td>0.389388</td>\n",
       "    </tr>\n",
       "    <tr>\n",
       "      <th>9</th>\n",
       "      <td>-0.426465</td>\n",
       "      <td>0.431377</td>\n",
       "      <td>-0.291198</td>\n",
       "      <td>-0.395528</td>\n",
       "    </tr>\n",
       "  </tbody>\n",
       "</table>\n",
       "</div>"
      ],
      "text/plain": [
       "          A         B         C         D\n",
       "0  0.616486 -1.334718  1.529231  0.842195\n",
       "1 -0.048407  0.207938  2.822052  0.681856\n",
       "2 -0.366068  0.184808 -0.208420  0.907698\n",
       "3  1.254615  0.824373  0.357837 -1.348405\n",
       "4  0.479829  0.156915 -1.290546  0.976857\n",
       "5 -0.964573  1.235992  2.492236 -0.989369\n",
       "6  0.285100  1.180833  0.366589  0.094721\n",
       "7 -0.977490  0.619442 -1.359105  0.686598\n",
       "8  0.573547  1.138470 -0.523836  0.389388\n",
       "9 -0.426465  0.431377 -0.291198 -0.395528"
      ]
     },
     "execution_count": 283,
     "metadata": {},
     "output_type": "execute_result"
    }
   ],
   "source": [
    "df"
   ]
  },
  {
   "cell_type": "code",
   "execution_count": 287,
   "id": "173440df-6403-4b55-96e6-c8c38f62831b",
   "metadata": {},
   "outputs": [
    {
     "data": {
      "text/plain": [
       "A   -0.366068\n",
       "B    0.184808\n",
       "C   -0.208420\n",
       "D    0.907698\n",
       "Name: 2, dtype: float64"
      ]
     },
     "execution_count": 287,
     "metadata": {},
     "output_type": "execute_result"
    }
   ],
   "source": [
    "df.iloc[2] #it will return the values of those coloumns that is > than 2"
   ]
  },
  {
   "cell_type": "code",
   "execution_count": 289,
   "id": "c5715820-b1b0-4b25-8e4a-2d8a5ddaa675",
   "metadata": {},
   "outputs": [],
   "source": [
    "df = pd.DataFrame(np.random.randn(10, 4), columns=['A', 'B', 'C', 'D'])"
   ]
  },
  {
   "cell_type": "code",
   "execution_count": 291,
   "id": "6a75e307-e908-472b-aaaa-4d94a5381dd1",
   "metadata": {},
   "outputs": [],
   "source": [
    "df2 = pd.DataFrame(np.random.randn(7, 3), columns=['A', 'B', 'C'])"
   ]
  },
  {
   "cell_type": "code",
   "execution_count": 293,
   "id": "86d90c94-6963-45a8-8940-ce2a2f10e887",
   "metadata": {},
   "outputs": [
    {
     "data": {
      "text/html": [
       "<div>\n",
       "<style scoped>\n",
       "    .dataframe tbody tr th:only-of-type {\n",
       "        vertical-align: middle;\n",
       "    }\n",
       "\n",
       "    .dataframe tbody tr th {\n",
       "        vertical-align: top;\n",
       "    }\n",
       "\n",
       "    .dataframe thead th {\n",
       "        text-align: right;\n",
       "    }\n",
       "</style>\n",
       "<table border=\"1\" class=\"dataframe\">\n",
       "  <thead>\n",
       "    <tr style=\"text-align: right;\">\n",
       "      <th></th>\n",
       "      <th>A</th>\n",
       "      <th>B</th>\n",
       "      <th>C</th>\n",
       "      <th>D</th>\n",
       "    </tr>\n",
       "  </thead>\n",
       "  <tbody>\n",
       "    <tr>\n",
       "      <th>0</th>\n",
       "      <td>1.409662</td>\n",
       "      <td>-0.664595</td>\n",
       "      <td>0.166269</td>\n",
       "      <td>NaN</td>\n",
       "    </tr>\n",
       "    <tr>\n",
       "      <th>1</th>\n",
       "      <td>2.006308</td>\n",
       "      <td>1.223349</td>\n",
       "      <td>-1.213822</td>\n",
       "      <td>NaN</td>\n",
       "    </tr>\n",
       "    <tr>\n",
       "      <th>2</th>\n",
       "      <td>-0.071799</td>\n",
       "      <td>-0.148830</td>\n",
       "      <td>0.554656</td>\n",
       "      <td>NaN</td>\n",
       "    </tr>\n",
       "    <tr>\n",
       "      <th>3</th>\n",
       "      <td>-1.627700</td>\n",
       "      <td>0.167236</td>\n",
       "      <td>-0.062058</td>\n",
       "      <td>NaN</td>\n",
       "    </tr>\n",
       "    <tr>\n",
       "      <th>4</th>\n",
       "      <td>-0.206223</td>\n",
       "      <td>0.957899</td>\n",
       "      <td>0.563073</td>\n",
       "      <td>NaN</td>\n",
       "    </tr>\n",
       "    <tr>\n",
       "      <th>5</th>\n",
       "      <td>-2.437565</td>\n",
       "      <td>-2.259486</td>\n",
       "      <td>-0.824948</td>\n",
       "      <td>NaN</td>\n",
       "    </tr>\n",
       "    <tr>\n",
       "      <th>6</th>\n",
       "      <td>0.270124</td>\n",
       "      <td>0.156000</td>\n",
       "      <td>0.931532</td>\n",
       "      <td>NaN</td>\n",
       "    </tr>\n",
       "    <tr>\n",
       "      <th>7</th>\n",
       "      <td>NaN</td>\n",
       "      <td>NaN</td>\n",
       "      <td>NaN</td>\n",
       "      <td>NaN</td>\n",
       "    </tr>\n",
       "    <tr>\n",
       "      <th>8</th>\n",
       "      <td>NaN</td>\n",
       "      <td>NaN</td>\n",
       "      <td>NaN</td>\n",
       "      <td>NaN</td>\n",
       "    </tr>\n",
       "    <tr>\n",
       "      <th>9</th>\n",
       "      <td>NaN</td>\n",
       "      <td>NaN</td>\n",
       "      <td>NaN</td>\n",
       "      <td>NaN</td>\n",
       "    </tr>\n",
       "  </tbody>\n",
       "</table>\n",
       "</div>"
      ],
      "text/plain": [
       "          A         B         C   D\n",
       "0  1.409662 -0.664595  0.166269 NaN\n",
       "1  2.006308  1.223349 -1.213822 NaN\n",
       "2 -0.071799 -0.148830  0.554656 NaN\n",
       "3 -1.627700  0.167236 -0.062058 NaN\n",
       "4 -0.206223  0.957899  0.563073 NaN\n",
       "5 -2.437565 -2.259486 -0.824948 NaN\n",
       "6  0.270124  0.156000  0.931532 NaN\n",
       "7       NaN       NaN       NaN NaN\n",
       "8       NaN       NaN       NaN NaN\n",
       "9       NaN       NaN       NaN NaN"
      ]
     },
     "execution_count": 293,
     "metadata": {},
     "output_type": "execute_result"
    }
   ],
   "source": [
    "df + df2 # add values of respective coloumn labels"
   ]
  },
  {
   "cell_type": "code",
   "execution_count": 295,
   "id": "3901b79d-9939-4129-b0e6-f13e883d6354",
   "metadata": {},
   "outputs": [
    {
     "data": {
      "text/html": [
       "<div>\n",
       "<style scoped>\n",
       "    .dataframe tbody tr th:only-of-type {\n",
       "        vertical-align: middle;\n",
       "    }\n",
       "\n",
       "    .dataframe tbody tr th {\n",
       "        vertical-align: top;\n",
       "    }\n",
       "\n",
       "    .dataframe thead th {\n",
       "        text-align: right;\n",
       "    }\n",
       "</style>\n",
       "<table border=\"1\" class=\"dataframe\">\n",
       "  <thead>\n",
       "    <tr style=\"text-align: right;\">\n",
       "      <th></th>\n",
       "      <th>A</th>\n",
       "      <th>B</th>\n",
       "      <th>C</th>\n",
       "      <th>D</th>\n",
       "    </tr>\n",
       "  </thead>\n",
       "  <tbody>\n",
       "    <tr>\n",
       "      <th>0</th>\n",
       "      <td>0.000000</td>\n",
       "      <td>0.000000</td>\n",
       "      <td>0.000000</td>\n",
       "      <td>0.000000</td>\n",
       "    </tr>\n",
       "    <tr>\n",
       "      <th>1</th>\n",
       "      <td>0.131911</td>\n",
       "      <td>1.470441</td>\n",
       "      <td>-0.304702</td>\n",
       "      <td>-0.800527</td>\n",
       "    </tr>\n",
       "    <tr>\n",
       "      <th>2</th>\n",
       "      <td>-1.546851</td>\n",
       "      <td>0.313082</td>\n",
       "      <td>1.145035</td>\n",
       "      <td>1.579277</td>\n",
       "    </tr>\n",
       "    <tr>\n",
       "      <th>3</th>\n",
       "      <td>-2.372839</td>\n",
       "      <td>1.739668</td>\n",
       "      <td>0.269529</td>\n",
       "      <td>0.724133</td>\n",
       "    </tr>\n",
       "    <tr>\n",
       "      <th>4</th>\n",
       "      <td>-1.162490</td>\n",
       "      <td>0.425594</td>\n",
       "      <td>0.480682</td>\n",
       "      <td>-0.305452</td>\n",
       "    </tr>\n",
       "    <tr>\n",
       "      <th>5</th>\n",
       "      <td>-2.347258</td>\n",
       "      <td>-1.594050</td>\n",
       "      <td>-0.044684</td>\n",
       "      <td>-0.147554</td>\n",
       "    </tr>\n",
       "    <tr>\n",
       "      <th>6</th>\n",
       "      <td>-0.724446</td>\n",
       "      <td>0.080308</td>\n",
       "      <td>0.651840</td>\n",
       "      <td>1.185382</td>\n",
       "    </tr>\n",
       "    <tr>\n",
       "      <th>7</th>\n",
       "      <td>0.156044</td>\n",
       "      <td>2.182103</td>\n",
       "      <td>0.900285</td>\n",
       "      <td>-1.103771</td>\n",
       "    </tr>\n",
       "    <tr>\n",
       "      <th>8</th>\n",
       "      <td>-2.949824</td>\n",
       "      <td>1.940466</td>\n",
       "      <td>-0.808687</td>\n",
       "      <td>0.421473</td>\n",
       "    </tr>\n",
       "    <tr>\n",
       "      <th>9</th>\n",
       "      <td>-1.672636</td>\n",
       "      <td>2.469656</td>\n",
       "      <td>0.315092</td>\n",
       "      <td>0.911958</td>\n",
       "    </tr>\n",
       "  </tbody>\n",
       "</table>\n",
       "</div>"
      ],
      "text/plain": [
       "          A         B         C         D\n",
       "0  0.000000  0.000000  0.000000  0.000000\n",
       "1  0.131911  1.470441 -0.304702 -0.800527\n",
       "2 -1.546851  0.313082  1.145035  1.579277\n",
       "3 -2.372839  1.739668  0.269529  0.724133\n",
       "4 -1.162490  0.425594  0.480682 -0.305452\n",
       "5 -2.347258 -1.594050 -0.044684 -0.147554\n",
       "6 -0.724446  0.080308  0.651840  1.185382\n",
       "7  0.156044  2.182103  0.900285 -1.103771\n",
       "8 -2.949824  1.940466 -0.808687  0.421473\n",
       "9 -1.672636  2.469656  0.315092  0.911958"
      ]
     },
     "execution_count": 295,
     "metadata": {},
     "output_type": "execute_result"
    }
   ],
   "source": [
    "df - df.iloc[0]"
   ]
  },
  {
   "cell_type": "code",
   "execution_count": 297,
   "id": "e6a4c066-be39-4b88-9494-77143ba88d01",
   "metadata": {},
   "outputs": [
    {
     "data": {
      "text/html": [
       "<div>\n",
       "<style scoped>\n",
       "    .dataframe tbody tr th:only-of-type {\n",
       "        vertical-align: middle;\n",
       "    }\n",
       "\n",
       "    .dataframe tbody tr th {\n",
       "        vertical-align: top;\n",
       "    }\n",
       "\n",
       "    .dataframe thead th {\n",
       "        text-align: right;\n",
       "    }\n",
       "</style>\n",
       "<table border=\"1\" class=\"dataframe\">\n",
       "  <thead>\n",
       "    <tr style=\"text-align: right;\">\n",
       "      <th></th>\n",
       "      <th>A</th>\n",
       "      <th>B</th>\n",
       "      <th>C</th>\n",
       "      <th>D</th>\n",
       "    </tr>\n",
       "  </thead>\n",
       "  <tbody>\n",
       "    <tr>\n",
       "      <th>0</th>\n",
       "      <td>9.374971</td>\n",
       "      <td>-1.221674</td>\n",
       "      <td>1.347187</td>\n",
       "      <td>1.803340</td>\n",
       "    </tr>\n",
       "    <tr>\n",
       "      <th>1</th>\n",
       "      <td>10.034526</td>\n",
       "      <td>6.130529</td>\n",
       "      <td>-0.176321</td>\n",
       "      <td>-2.199297</td>\n",
       "    </tr>\n",
       "    <tr>\n",
       "      <th>2</th>\n",
       "      <td>1.640714</td>\n",
       "      <td>0.343736</td>\n",
       "      <td>7.072364</td>\n",
       "      <td>9.699727</td>\n",
       "    </tr>\n",
       "    <tr>\n",
       "      <th>3</th>\n",
       "      <td>-2.489226</td>\n",
       "      <td>7.476664</td>\n",
       "      <td>2.694832</td>\n",
       "      <td>5.424004</td>\n",
       "    </tr>\n",
       "    <tr>\n",
       "      <th>4</th>\n",
       "      <td>3.562521</td>\n",
       "      <td>0.906298</td>\n",
       "      <td>3.750599</td>\n",
       "      <td>0.276082</td>\n",
       "    </tr>\n",
       "    <tr>\n",
       "      <th>5</th>\n",
       "      <td>-2.361318</td>\n",
       "      <td>-9.191925</td>\n",
       "      <td>1.123767</td>\n",
       "      <td>1.065572</td>\n",
       "    </tr>\n",
       "    <tr>\n",
       "      <th>6</th>\n",
       "      <td>5.752742</td>\n",
       "      <td>-0.820132</td>\n",
       "      <td>4.606387</td>\n",
       "      <td>7.730252</td>\n",
       "    </tr>\n",
       "    <tr>\n",
       "      <th>7</th>\n",
       "      <td>10.155191</td>\n",
       "      <td>9.688840</td>\n",
       "      <td>5.848614</td>\n",
       "      <td>-3.715515</td>\n",
       "    </tr>\n",
       "    <tr>\n",
       "      <th>8</th>\n",
       "      <td>-5.374150</td>\n",
       "      <td>8.480654</td>\n",
       "      <td>-2.696250</td>\n",
       "      <td>3.910703</td>\n",
       "    </tr>\n",
       "    <tr>\n",
       "      <th>9</th>\n",
       "      <td>1.011790</td>\n",
       "      <td>11.126608</td>\n",
       "      <td>2.922647</td>\n",
       "      <td>6.363133</td>\n",
       "    </tr>\n",
       "  </tbody>\n",
       "</table>\n",
       "</div>"
      ],
      "text/plain": [
       "           A          B         C         D\n",
       "0   9.374971  -1.221674  1.347187  1.803340\n",
       "1  10.034526   6.130529 -0.176321 -2.199297\n",
       "2   1.640714   0.343736  7.072364  9.699727\n",
       "3  -2.489226   7.476664  2.694832  5.424004\n",
       "4   3.562521   0.906298  3.750599  0.276082\n",
       "5  -2.361318  -9.191925  1.123767  1.065572\n",
       "6   5.752742  -0.820132  4.606387  7.730252\n",
       "7  10.155191   9.688840  5.848614 -3.715515\n",
       "8  -5.374150   8.480654 -2.696250  3.910703\n",
       "9   1.011790  11.126608  2.922647  6.363133"
      ]
     },
     "execution_count": 297,
     "metadata": {},
     "output_type": "execute_result"
    }
   ],
   "source": [
    "df*5+2"
   ]
  },
  {
   "cell_type": "code",
   "execution_count": 299,
   "id": "44cc5632-4572-4b3b-af92-f2acf1bd5c51",
   "metadata": {},
   "outputs": [
    {
     "data": {
      "text/html": [
       "<div>\n",
       "<style scoped>\n",
       "    .dataframe tbody tr th:only-of-type {\n",
       "        vertical-align: middle;\n",
       "    }\n",
       "\n",
       "    .dataframe tbody tr th {\n",
       "        vertical-align: top;\n",
       "    }\n",
       "\n",
       "    .dataframe thead th {\n",
       "        text-align: right;\n",
       "    }\n",
       "</style>\n",
       "<table border=\"1\" class=\"dataframe\">\n",
       "  <thead>\n",
       "    <tr style=\"text-align: right;\">\n",
       "      <th></th>\n",
       "      <th>A</th>\n",
       "      <th>B</th>\n",
       "      <th>C</th>\n",
       "      <th>D</th>\n",
       "    </tr>\n",
       "  </thead>\n",
       "  <tbody>\n",
       "    <tr>\n",
       "      <th>0</th>\n",
       "      <td>0.677969</td>\n",
       "      <td>-1.551988</td>\n",
       "      <td>-7.659161</td>\n",
       "      <td>-25.424619</td>\n",
       "    </tr>\n",
       "    <tr>\n",
       "      <th>1</th>\n",
       "      <td>0.622314</td>\n",
       "      <td>1.210499</td>\n",
       "      <td>-2.297456</td>\n",
       "      <td>-1.190675</td>\n",
       "    </tr>\n",
       "    <tr>\n",
       "      <th>2</th>\n",
       "      <td>-13.916500</td>\n",
       "      <td>-3.018843</td>\n",
       "      <td>0.985734</td>\n",
       "      <td>0.649374</td>\n",
       "    </tr>\n",
       "    <tr>\n",
       "      <th>3</th>\n",
       "      <td>-1.113778</td>\n",
       "      <td>0.912965</td>\n",
       "      <td>7.195985</td>\n",
       "      <td>1.460279</td>\n",
       "    </tr>\n",
       "    <tr>\n",
       "      <th>4</th>\n",
       "      <td>3.199956</td>\n",
       "      <td>-4.571628</td>\n",
       "      <td>2.856165</td>\n",
       "      <td>-2.900370</td>\n",
       "    </tr>\n",
       "    <tr>\n",
       "      <th>5</th>\n",
       "      <td>-1.146442</td>\n",
       "      <td>-0.446751</td>\n",
       "      <td>-5.706246</td>\n",
       "      <td>-5.350865</td>\n",
       "    </tr>\n",
       "    <tr>\n",
       "      <th>6</th>\n",
       "      <td>1.332359</td>\n",
       "      <td>-1.772967</td>\n",
       "      <td>1.918365</td>\n",
       "      <td>0.872562</td>\n",
       "    </tr>\n",
       "    <tr>\n",
       "      <th>7</th>\n",
       "      <td>0.613106</td>\n",
       "      <td>0.650293</td>\n",
       "      <td>1.299169</td>\n",
       "      <td>-0.874812</td>\n",
       "    </tr>\n",
       "    <tr>\n",
       "      <th>8</th>\n",
       "      <td>-0.678044</td>\n",
       "      <td>0.771527</td>\n",
       "      <td>-1.064679</td>\n",
       "      <td>2.616838</td>\n",
       "    </tr>\n",
       "    <tr>\n",
       "      <th>9</th>\n",
       "      <td>-5.059651</td>\n",
       "      <td>0.547849</td>\n",
       "      <td>5.419188</td>\n",
       "      <td>1.145966</td>\n",
       "    </tr>\n",
       "  </tbody>\n",
       "</table>\n",
       "</div>"
      ],
      "text/plain": [
       "           A         B         C          D\n",
       "0   0.677969 -1.551988 -7.659161 -25.424619\n",
       "1   0.622314  1.210499 -2.297456  -1.190675\n",
       "2 -13.916500 -3.018843  0.985734   0.649374\n",
       "3  -1.113778  0.912965  7.195985   1.460279\n",
       "4   3.199956 -4.571628  2.856165  -2.900370\n",
       "5  -1.146442 -0.446751 -5.706246  -5.350865\n",
       "6   1.332359 -1.772967  1.918365   0.872562\n",
       "7   0.613106  0.650293  1.299169  -0.874812\n",
       "8  -0.678044  0.771527 -1.064679   2.616838\n",
       "9  -5.059651  0.547849  5.419188   1.145966"
      ]
     },
     "execution_count": 299,
     "metadata": {},
     "output_type": "execute_result"
    }
   ],
   "source": [
    "1 / df"
   ]
  },
  {
   "cell_type": "code",
   "execution_count": 301,
   "id": "fff34d11-28a3-49d6-9a05-7bb0f15b119c",
   "metadata": {},
   "outputs": [
    {
     "data": {
      "text/html": [
       "<div>\n",
       "<style scoped>\n",
       "    .dataframe tbody tr th:only-of-type {\n",
       "        vertical-align: middle;\n",
       "    }\n",
       "\n",
       "    .dataframe tbody tr th {\n",
       "        vertical-align: top;\n",
       "    }\n",
       "\n",
       "    .dataframe thead th {\n",
       "        text-align: right;\n",
       "    }\n",
       "</style>\n",
       "<table border=\"1\" class=\"dataframe\">\n",
       "  <thead>\n",
       "    <tr style=\"text-align: right;\">\n",
       "      <th></th>\n",
       "      <th>A</th>\n",
       "      <th>B</th>\n",
       "      <th>C</th>\n",
       "      <th>D</th>\n",
       "    </tr>\n",
       "  </thead>\n",
       "  <tbody>\n",
       "    <tr>\n",
       "      <th>0</th>\n",
       "      <td>4.733270</td>\n",
       "      <td>0.172364</td>\n",
       "      <td>0.000291</td>\n",
       "      <td>0.000002</td>\n",
       "    </tr>\n",
       "    <tr>\n",
       "      <th>1</th>\n",
       "      <td>6.667469</td>\n",
       "      <td>0.465739</td>\n",
       "      <td>0.035893</td>\n",
       "      <td>0.497538</td>\n",
       "    </tr>\n",
       "    <tr>\n",
       "      <th>2</th>\n",
       "      <td>0.000027</td>\n",
       "      <td>0.012040</td>\n",
       "      <td>1.059160</td>\n",
       "      <td>5.623690</td>\n",
       "    </tr>\n",
       "    <tr>\n",
       "      <th>3</th>\n",
       "      <td>0.649839</td>\n",
       "      <td>1.439409</td>\n",
       "      <td>0.000373</td>\n",
       "      <td>0.219916</td>\n",
       "    </tr>\n",
       "    <tr>\n",
       "      <th>4</th>\n",
       "      <td>0.009537</td>\n",
       "      <td>0.002289</td>\n",
       "      <td>0.015027</td>\n",
       "      <td>0.014131</td>\n",
       "    </tr>\n",
       "    <tr>\n",
       "      <th>5</th>\n",
       "      <td>0.578883</td>\n",
       "      <td>25.103777</td>\n",
       "      <td>0.000943</td>\n",
       "      <td>0.001220</td>\n",
       "    </tr>\n",
       "    <tr>\n",
       "      <th>6</th>\n",
       "      <td>0.317333</td>\n",
       "      <td>0.101204</td>\n",
       "      <td>0.073837</td>\n",
       "      <td>1.725102</td>\n",
       "    </tr>\n",
       "    <tr>\n",
       "      <th>7</th>\n",
       "      <td>7.077118</td>\n",
       "      <td>5.591949</td>\n",
       "      <td>0.351024</td>\n",
       "      <td>1.707424</td>\n",
       "    </tr>\n",
       "    <tr>\n",
       "      <th>8</th>\n",
       "      <td>4.731163</td>\n",
       "      <td>2.822249</td>\n",
       "      <td>0.778260</td>\n",
       "      <td>0.021325</td>\n",
       "    </tr>\n",
       "    <tr>\n",
       "      <th>9</th>\n",
       "      <td>0.001526</td>\n",
       "      <td>11.100884</td>\n",
       "      <td>0.001159</td>\n",
       "      <td>0.579847</td>\n",
       "    </tr>\n",
       "  </tbody>\n",
       "</table>\n",
       "</div>"
      ],
      "text/plain": [
       "          A          B         C         D\n",
       "0  4.733270   0.172364  0.000291  0.000002\n",
       "1  6.667469   0.465739  0.035893  0.497538\n",
       "2  0.000027   0.012040  1.059160  5.623690\n",
       "3  0.649839   1.439409  0.000373  0.219916\n",
       "4  0.009537   0.002289  0.015027  0.014131\n",
       "5  0.578883  25.103777  0.000943  0.001220\n",
       "6  0.317333   0.101204  0.073837  1.725102\n",
       "7  7.077118   5.591949  0.351024  1.707424\n",
       "8  4.731163   2.822249  0.778260  0.021325\n",
       "9  0.001526  11.100884  0.001159  0.579847"
      ]
     },
     "execution_count": 301,
     "metadata": {},
     "output_type": "execute_result"
    }
   ],
   "source": [
    "df **4"
   ]
  },
  {
   "cell_type": "code",
   "execution_count": 303,
   "id": "9627ea7d-4c9d-47ca-a6aa-60f33680c644",
   "metadata": {},
   "outputs": [],
   "source": [
    "df1 = pd.DataFrame({'a' : [1, 0, 1], 'b' : [0, 1, 1] }, dtype=bool)"
   ]
  },
  {
   "cell_type": "code",
   "execution_count": 305,
   "id": "02a6ac02-8d87-4ef7-b271-df76c07dcdc8",
   "metadata": {},
   "outputs": [],
   "source": [
    "df2 = pd.DataFrame({'a' : [0, 1, 1], 'b' : [1, 1, 0] }, dtype=bool)"
   ]
  },
  {
   "cell_type": "code",
   "execution_count": 307,
   "id": "ca81ec3c-f79e-4cba-96e8-214e111d0a77",
   "metadata": {},
   "outputs": [
    {
     "data": {
      "text/html": [
       "<div>\n",
       "<style scoped>\n",
       "    .dataframe tbody tr th:only-of-type {\n",
       "        vertical-align: middle;\n",
       "    }\n",
       "\n",
       "    .dataframe tbody tr th {\n",
       "        vertical-align: top;\n",
       "    }\n",
       "\n",
       "    .dataframe thead th {\n",
       "        text-align: right;\n",
       "    }\n",
       "</style>\n",
       "<table border=\"1\" class=\"dataframe\">\n",
       "  <thead>\n",
       "    <tr style=\"text-align: right;\">\n",
       "      <th></th>\n",
       "      <th>a</th>\n",
       "      <th>b</th>\n",
       "    </tr>\n",
       "  </thead>\n",
       "  <tbody>\n",
       "    <tr>\n",
       "      <th>0</th>\n",
       "      <td>False</td>\n",
       "      <td>True</td>\n",
       "    </tr>\n",
       "    <tr>\n",
       "      <th>1</th>\n",
       "      <td>True</td>\n",
       "      <td>True</td>\n",
       "    </tr>\n",
       "    <tr>\n",
       "      <th>2</th>\n",
       "      <td>True</td>\n",
       "      <td>False</td>\n",
       "    </tr>\n",
       "  </tbody>\n",
       "</table>\n",
       "</div>"
      ],
      "text/plain": [
       "       a      b\n",
       "0  False   True\n",
       "1   True   True\n",
       "2   True  False"
      ]
     },
     "execution_count": 307,
     "metadata": {},
     "output_type": "execute_result"
    }
   ],
   "source": [
    "pd.DataFrame({'a' : [0, 1, 1], 'b' : [1, 1, 0] }, dtype=bool)"
   ]
  },
  {
   "cell_type": "code",
   "execution_count": 309,
   "id": "ccac449d-1c4e-4ac0-9439-07ef0f6c4140",
   "metadata": {},
   "outputs": [
    {
     "data": {
      "text/html": [
       "<div>\n",
       "<style scoped>\n",
       "    .dataframe tbody tr th:only-of-type {\n",
       "        vertical-align: middle;\n",
       "    }\n",
       "\n",
       "    .dataframe tbody tr th {\n",
       "        vertical-align: top;\n",
       "    }\n",
       "\n",
       "    .dataframe thead th {\n",
       "        text-align: right;\n",
       "    }\n",
       "</style>\n",
       "<table border=\"1\" class=\"dataframe\">\n",
       "  <thead>\n",
       "    <tr style=\"text-align: right;\">\n",
       "      <th></th>\n",
       "      <th>a</th>\n",
       "      <th>b</th>\n",
       "    </tr>\n",
       "  </thead>\n",
       "  <tbody>\n",
       "    <tr>\n",
       "      <th>0</th>\n",
       "      <td>False</td>\n",
       "      <td>False</td>\n",
       "    </tr>\n",
       "    <tr>\n",
       "      <th>1</th>\n",
       "      <td>False</td>\n",
       "      <td>True</td>\n",
       "    </tr>\n",
       "    <tr>\n",
       "      <th>2</th>\n",
       "      <td>True</td>\n",
       "      <td>False</td>\n",
       "    </tr>\n",
       "  </tbody>\n",
       "</table>\n",
       "</div>"
      ],
      "text/plain": [
       "       a      b\n",
       "0  False  False\n",
       "1  False   True\n",
       "2   True  False"
      ]
     },
     "execution_count": 309,
     "metadata": {},
     "output_type": "execute_result"
    }
   ],
   "source": [
    "df1 & df2 #and logical operator"
   ]
  },
  {
   "cell_type": "code",
   "execution_count": 311,
   "id": "cb3f0df4-a4b1-41a9-9f05-b594c9ed3bf3",
   "metadata": {},
   "outputs": [
    {
     "data": {
      "text/html": [
       "<div>\n",
       "<style scoped>\n",
       "    .dataframe tbody tr th:only-of-type {\n",
       "        vertical-align: middle;\n",
       "    }\n",
       "\n",
       "    .dataframe tbody tr th {\n",
       "        vertical-align: top;\n",
       "    }\n",
       "\n",
       "    .dataframe thead th {\n",
       "        text-align: right;\n",
       "    }\n",
       "</style>\n",
       "<table border=\"1\" class=\"dataframe\">\n",
       "  <thead>\n",
       "    <tr style=\"text-align: right;\">\n",
       "      <th></th>\n",
       "      <th>a</th>\n",
       "      <th>b</th>\n",
       "    </tr>\n",
       "  </thead>\n",
       "  <tbody>\n",
       "    <tr>\n",
       "      <th>0</th>\n",
       "      <td>True</td>\n",
       "      <td>True</td>\n",
       "    </tr>\n",
       "    <tr>\n",
       "      <th>1</th>\n",
       "      <td>True</td>\n",
       "      <td>True</td>\n",
       "    </tr>\n",
       "    <tr>\n",
       "      <th>2</th>\n",
       "      <td>True</td>\n",
       "      <td>True</td>\n",
       "    </tr>\n",
       "  </tbody>\n",
       "</table>\n",
       "</div>"
      ],
      "text/plain": [
       "      a     b\n",
       "0  True  True\n",
       "1  True  True\n",
       "2  True  True"
      ]
     },
     "execution_count": 311,
     "metadata": {},
     "output_type": "execute_result"
    }
   ],
   "source": [
    "df1 | df2 # or operator"
   ]
  },
  {
   "cell_type": "code",
   "execution_count": 313,
   "id": "24572063-9b7d-44b0-b432-93be2081a392",
   "metadata": {},
   "outputs": [
    {
     "data": {
      "text/html": [
       "<div>\n",
       "<style scoped>\n",
       "    .dataframe tbody tr th:only-of-type {\n",
       "        vertical-align: middle;\n",
       "    }\n",
       "\n",
       "    .dataframe tbody tr th {\n",
       "        vertical-align: top;\n",
       "    }\n",
       "\n",
       "    .dataframe thead th {\n",
       "        text-align: right;\n",
       "    }\n",
       "</style>\n",
       "<table border=\"1\" class=\"dataframe\">\n",
       "  <thead>\n",
       "    <tr style=\"text-align: right;\">\n",
       "      <th></th>\n",
       "      <th>a</th>\n",
       "      <th>b</th>\n",
       "    </tr>\n",
       "  </thead>\n",
       "  <tbody>\n",
       "    <tr>\n",
       "      <th>0</th>\n",
       "      <td>False</td>\n",
       "      <td>True</td>\n",
       "    </tr>\n",
       "    <tr>\n",
       "      <th>1</th>\n",
       "      <td>True</td>\n",
       "      <td>False</td>\n",
       "    </tr>\n",
       "    <tr>\n",
       "      <th>2</th>\n",
       "      <td>False</td>\n",
       "      <td>False</td>\n",
       "    </tr>\n",
       "  </tbody>\n",
       "</table>\n",
       "</div>"
      ],
      "text/plain": [
       "       a      b\n",
       "0  False   True\n",
       "1   True  False\n",
       "2  False  False"
      ]
     },
     "execution_count": 313,
     "metadata": {},
     "output_type": "execute_result"
    }
   ],
   "source": [
    "-df1"
   ]
  },
  {
   "cell_type": "code",
   "execution_count": 315,
   "id": "cb9126a3-0427-4912-9859-7c4f4225446d",
   "metadata": {},
   "outputs": [
    {
     "data": {
      "text/html": [
       "<div>\n",
       "<style scoped>\n",
       "    .dataframe tbody tr th:only-of-type {\n",
       "        vertical-align: middle;\n",
       "    }\n",
       "\n",
       "    .dataframe tbody tr th {\n",
       "        vertical-align: top;\n",
       "    }\n",
       "\n",
       "    .dataframe thead th {\n",
       "        text-align: right;\n",
       "    }\n",
       "</style>\n",
       "<table border=\"1\" class=\"dataframe\">\n",
       "  <thead>\n",
       "    <tr style=\"text-align: right;\">\n",
       "      <th></th>\n",
       "      <th>0</th>\n",
       "      <th>1</th>\n",
       "      <th>2</th>\n",
       "      <th>3</th>\n",
       "      <th>4</th>\n",
       "    </tr>\n",
       "  </thead>\n",
       "  <tbody>\n",
       "    <tr>\n",
       "      <th>A</th>\n",
       "      <td>1.474994</td>\n",
       "      <td>1.606905</td>\n",
       "      <td>-0.071857</td>\n",
       "      <td>-0.897845</td>\n",
       "      <td>0.312504</td>\n",
       "    </tr>\n",
       "    <tr>\n",
       "      <th>B</th>\n",
       "      <td>-0.644335</td>\n",
       "      <td>0.826106</td>\n",
       "      <td>-0.331253</td>\n",
       "      <td>1.095333</td>\n",
       "      <td>-0.218740</td>\n",
       "    </tr>\n",
       "    <tr>\n",
       "      <th>C</th>\n",
       "      <td>-0.130563</td>\n",
       "      <td>-0.435264</td>\n",
       "      <td>1.014473</td>\n",
       "      <td>0.138966</td>\n",
       "      <td>0.350120</td>\n",
       "    </tr>\n",
       "    <tr>\n",
       "      <th>D</th>\n",
       "      <td>-0.039332</td>\n",
       "      <td>-0.839859</td>\n",
       "      <td>1.539945</td>\n",
       "      <td>0.684801</td>\n",
       "      <td>-0.344784</td>\n",
       "    </tr>\n",
       "  </tbody>\n",
       "</table>\n",
       "</div>"
      ],
      "text/plain": [
       "          0         1         2         3         4\n",
       "A  1.474994  1.606905 -0.071857 -0.897845  0.312504\n",
       "B -0.644335  0.826106 -0.331253  1.095333 -0.218740\n",
       "C -0.130563 -0.435264  1.014473  0.138966  0.350120\n",
       "D -0.039332 -0.839859  1.539945  0.684801 -0.344784"
      ]
     },
     "execution_count": 315,
     "metadata": {},
     "output_type": "execute_result"
    }
   ],
   "source": [
    "# only show the first 5 rows\n",
    "df[:5].T"
   ]
  },
  {
   "cell_type": "code",
   "execution_count": 317,
   "id": "c0d728fb-d4b2-4c54-a554-5bd410b14e8c",
   "metadata": {},
   "outputs": [],
   "source": [
    "dates = pd.date_range('20130101', periods=6)"
   ]
  },
  {
   "cell_type": "code",
   "execution_count": 319,
   "id": "ed28c2d1-60a6-431a-a7a8-0c26757c3e1a",
   "metadata": {},
   "outputs": [
    {
     "data": {
      "text/plain": [
       "DatetimeIndex(['2013-01-01', '2013-01-02', '2013-01-03', '2013-01-04',\n",
       "               '2013-01-05', '2013-01-06'],\n",
       "              dtype='datetime64[ns]', freq='D')"
      ]
     },
     "execution_count": 319,
     "metadata": {},
     "output_type": "execute_result"
    }
   ],
   "source": [
    "dates"
   ]
  },
  {
   "cell_type": "code",
   "execution_count": 321,
   "id": "bb5e4315-0688-416b-9454-468b6cc4cfae",
   "metadata": {},
   "outputs": [],
   "source": [
    "df = pd.DataFrame(np.random.randn(6,4), index=dates, columns=list('ABCD'))"
   ]
  },
  {
   "cell_type": "code",
   "execution_count": 323,
   "id": "f74737b9-eec4-4870-89ec-c58c76d8e696",
   "metadata": {},
   "outputs": [
    {
     "data": {
      "text/html": [
       "<div>\n",
       "<style scoped>\n",
       "    .dataframe tbody tr th:only-of-type {\n",
       "        vertical-align: middle;\n",
       "    }\n",
       "\n",
       "    .dataframe tbody tr th {\n",
       "        vertical-align: top;\n",
       "    }\n",
       "\n",
       "    .dataframe thead th {\n",
       "        text-align: right;\n",
       "    }\n",
       "</style>\n",
       "<table border=\"1\" class=\"dataframe\">\n",
       "  <thead>\n",
       "    <tr style=\"text-align: right;\">\n",
       "      <th></th>\n",
       "      <th>A</th>\n",
       "      <th>B</th>\n",
       "      <th>C</th>\n",
       "      <th>D</th>\n",
       "    </tr>\n",
       "  </thead>\n",
       "  <tbody>\n",
       "    <tr>\n",
       "      <th>2013-01-01</th>\n",
       "      <td>0.947153</td>\n",
       "      <td>1.758789</td>\n",
       "      <td>1.366483</td>\n",
       "      <td>1.839390</td>\n",
       "    </tr>\n",
       "    <tr>\n",
       "      <th>2013-01-02</th>\n",
       "      <td>-0.846396</td>\n",
       "      <td>-1.225437</td>\n",
       "      <td>-2.220782</td>\n",
       "      <td>-1.559652</td>\n",
       "    </tr>\n",
       "    <tr>\n",
       "      <th>2013-01-03</th>\n",
       "      <td>-1.388353</td>\n",
       "      <td>1.180077</td>\n",
       "      <td>0.072255</td>\n",
       "      <td>0.293132</td>\n",
       "    </tr>\n",
       "    <tr>\n",
       "      <th>2013-01-04</th>\n",
       "      <td>0.294944</td>\n",
       "      <td>1.954521</td>\n",
       "      <td>-1.928209</td>\n",
       "      <td>0.975530</td>\n",
       "    </tr>\n",
       "    <tr>\n",
       "      <th>2013-01-05</th>\n",
       "      <td>-1.528605</td>\n",
       "      <td>0.588685</td>\n",
       "      <td>-0.002527</td>\n",
       "      <td>-1.400321</td>\n",
       "    </tr>\n",
       "    <tr>\n",
       "      <th>2013-01-06</th>\n",
       "      <td>-2.835337</td>\n",
       "      <td>0.309922</td>\n",
       "      <td>-0.291958</td>\n",
       "      <td>-0.086227</td>\n",
       "    </tr>\n",
       "  </tbody>\n",
       "</table>\n",
       "</div>"
      ],
      "text/plain": [
       "                   A         B         C         D\n",
       "2013-01-01  0.947153  1.758789  1.366483  1.839390\n",
       "2013-01-02 -0.846396 -1.225437 -2.220782 -1.559652\n",
       "2013-01-03 -1.388353  1.180077  0.072255  0.293132\n",
       "2013-01-04  0.294944  1.954521 -1.928209  0.975530\n",
       "2013-01-05 -1.528605  0.588685 -0.002527 -1.400321\n",
       "2013-01-06 -2.835337  0.309922 -0.291958 -0.086227"
      ]
     },
     "execution_count": 323,
     "metadata": {},
     "output_type": "execute_result"
    }
   ],
   "source": [
    "df"
   ]
  },
  {
   "cell_type": "code",
   "execution_count": 325,
   "id": "43e69c07-5cd3-47a5-a986-a32cea879917",
   "metadata": {},
   "outputs": [],
   "source": [
    "df2 = pd.DataFrame({ 'A' : 1.,\n",
    "'B' : pd.Timestamp('20130102'),\n",
    "'C' : pd.Series(1,index=list(range(4)),dtype='float32'),\n",
    "'D' : np.array([3] * 4,dtype='int32'),\n",
    "'E' : pd.Categorical([\"test\",\"train\",\"test\",\"train\"]),\n",
    "'F' : 'foo' })\n"
   ]
  },
  {
   "cell_type": "code",
   "execution_count": 327,
   "id": "7b9d793c-65e5-4ac3-b8e6-3a2f66b57f81",
   "metadata": {},
   "outputs": [
    {
     "data": {
      "text/html": [
       "<div>\n",
       "<style scoped>\n",
       "    .dataframe tbody tr th:only-of-type {\n",
       "        vertical-align: middle;\n",
       "    }\n",
       "\n",
       "    .dataframe tbody tr th {\n",
       "        vertical-align: top;\n",
       "    }\n",
       "\n",
       "    .dataframe thead th {\n",
       "        text-align: right;\n",
       "    }\n",
       "</style>\n",
       "<table border=\"1\" class=\"dataframe\">\n",
       "  <thead>\n",
       "    <tr style=\"text-align: right;\">\n",
       "      <th></th>\n",
       "      <th>A</th>\n",
       "      <th>B</th>\n",
       "      <th>C</th>\n",
       "      <th>D</th>\n",
       "      <th>E</th>\n",
       "      <th>F</th>\n",
       "    </tr>\n",
       "  </thead>\n",
       "  <tbody>\n",
       "    <tr>\n",
       "      <th>0</th>\n",
       "      <td>1.0</td>\n",
       "      <td>2013-01-02</td>\n",
       "      <td>1.0</td>\n",
       "      <td>3</td>\n",
       "      <td>test</td>\n",
       "      <td>foo</td>\n",
       "    </tr>\n",
       "    <tr>\n",
       "      <th>1</th>\n",
       "      <td>1.0</td>\n",
       "      <td>2013-01-02</td>\n",
       "      <td>1.0</td>\n",
       "      <td>3</td>\n",
       "      <td>train</td>\n",
       "      <td>foo</td>\n",
       "    </tr>\n",
       "    <tr>\n",
       "      <th>2</th>\n",
       "      <td>1.0</td>\n",
       "      <td>2013-01-02</td>\n",
       "      <td>1.0</td>\n",
       "      <td>3</td>\n",
       "      <td>test</td>\n",
       "      <td>foo</td>\n",
       "    </tr>\n",
       "    <tr>\n",
       "      <th>3</th>\n",
       "      <td>1.0</td>\n",
       "      <td>2013-01-02</td>\n",
       "      <td>1.0</td>\n",
       "      <td>3</td>\n",
       "      <td>train</td>\n",
       "      <td>foo</td>\n",
       "    </tr>\n",
       "  </tbody>\n",
       "</table>\n",
       "</div>"
      ],
      "text/plain": [
       "     A          B    C  D      E    F\n",
       "0  1.0 2013-01-02  1.0  3   test  foo\n",
       "1  1.0 2013-01-02  1.0  3  train  foo\n",
       "2  1.0 2013-01-02  1.0  3   test  foo\n",
       "3  1.0 2013-01-02  1.0  3  train  foo"
      ]
     },
     "execution_count": 327,
     "metadata": {},
     "output_type": "execute_result"
    }
   ],
   "source": [
    "df2"
   ]
  },
  {
   "cell_type": "code",
   "execution_count": 329,
   "id": "54404ea8-9dce-43a6-aecc-193377b5f34b",
   "metadata": {},
   "outputs": [
    {
     "data": {
      "text/plain": [
       "A          float64\n",
       "B    datetime64[s]\n",
       "C          float32\n",
       "D            int32\n",
       "E         category\n",
       "F           object\n",
       "dtype: object"
      ]
     },
     "execution_count": 329,
     "metadata": {},
     "output_type": "execute_result"
    }
   ],
   "source": [
    "df2.dtypes"
   ]
  },
  {
   "cell_type": "markdown",
   "id": "9ef91641-d4de-4cfe-8518-3d21fde162dc",
   "metadata": {},
   "source": [
    "# 11. Viewing Data"
   ]
  },
  {
   "cell_type": "code",
   "execution_count": 331,
   "id": "a6e92d4d-8517-4e50-8f33-29098e4e5eb1",
   "metadata": {},
   "outputs": [
    {
     "data": {
      "text/html": [
       "<div>\n",
       "<style scoped>\n",
       "    .dataframe tbody tr th:only-of-type {\n",
       "        vertical-align: middle;\n",
       "    }\n",
       "\n",
       "    .dataframe tbody tr th {\n",
       "        vertical-align: top;\n",
       "    }\n",
       "\n",
       "    .dataframe thead th {\n",
       "        text-align: right;\n",
       "    }\n",
       "</style>\n",
       "<table border=\"1\" class=\"dataframe\">\n",
       "  <thead>\n",
       "    <tr style=\"text-align: right;\">\n",
       "      <th></th>\n",
       "      <th>A</th>\n",
       "      <th>B</th>\n",
       "      <th>C</th>\n",
       "      <th>D</th>\n",
       "    </tr>\n",
       "  </thead>\n",
       "  <tbody>\n",
       "    <tr>\n",
       "      <th>2013-01-01</th>\n",
       "      <td>0.947153</td>\n",
       "      <td>1.758789</td>\n",
       "      <td>1.366483</td>\n",
       "      <td>1.839390</td>\n",
       "    </tr>\n",
       "    <tr>\n",
       "      <th>2013-01-02</th>\n",
       "      <td>-0.846396</td>\n",
       "      <td>-1.225437</td>\n",
       "      <td>-2.220782</td>\n",
       "      <td>-1.559652</td>\n",
       "    </tr>\n",
       "    <tr>\n",
       "      <th>2013-01-03</th>\n",
       "      <td>-1.388353</td>\n",
       "      <td>1.180077</td>\n",
       "      <td>0.072255</td>\n",
       "      <td>0.293132</td>\n",
       "    </tr>\n",
       "    <tr>\n",
       "      <th>2013-01-04</th>\n",
       "      <td>0.294944</td>\n",
       "      <td>1.954521</td>\n",
       "      <td>-1.928209</td>\n",
       "      <td>0.975530</td>\n",
       "    </tr>\n",
       "    <tr>\n",
       "      <th>2013-01-05</th>\n",
       "      <td>-1.528605</td>\n",
       "      <td>0.588685</td>\n",
       "      <td>-0.002527</td>\n",
       "      <td>-1.400321</td>\n",
       "    </tr>\n",
       "  </tbody>\n",
       "</table>\n",
       "</div>"
      ],
      "text/plain": [
       "                   A         B         C         D\n",
       "2013-01-01  0.947153  1.758789  1.366483  1.839390\n",
       "2013-01-02 -0.846396 -1.225437 -2.220782 -1.559652\n",
       "2013-01-03 -1.388353  1.180077  0.072255  0.293132\n",
       "2013-01-04  0.294944  1.954521 -1.928209  0.975530\n",
       "2013-01-05 -1.528605  0.588685 -0.002527 -1.400321"
      ]
     },
     "execution_count": 331,
     "metadata": {},
     "output_type": "execute_result"
    }
   ],
   "source": [
    "df.head() #display first 5 records"
   ]
  },
  {
   "cell_type": "code",
   "execution_count": 333,
   "id": "15d5edde-329d-42b1-9b8d-623deeeb523e",
   "metadata": {},
   "outputs": [
    {
     "data": {
      "text/html": [
       "<div>\n",
       "<style scoped>\n",
       "    .dataframe tbody tr th:only-of-type {\n",
       "        vertical-align: middle;\n",
       "    }\n",
       "\n",
       "    .dataframe tbody tr th {\n",
       "        vertical-align: top;\n",
       "    }\n",
       "\n",
       "    .dataframe thead th {\n",
       "        text-align: right;\n",
       "    }\n",
       "</style>\n",
       "<table border=\"1\" class=\"dataframe\">\n",
       "  <thead>\n",
       "    <tr style=\"text-align: right;\">\n",
       "      <th></th>\n",
       "      <th>A</th>\n",
       "      <th>B</th>\n",
       "      <th>C</th>\n",
       "      <th>D</th>\n",
       "    </tr>\n",
       "  </thead>\n",
       "  <tbody>\n",
       "    <tr>\n",
       "      <th>2013-01-04</th>\n",
       "      <td>0.294944</td>\n",
       "      <td>1.954521</td>\n",
       "      <td>-1.928209</td>\n",
       "      <td>0.975530</td>\n",
       "    </tr>\n",
       "    <tr>\n",
       "      <th>2013-01-05</th>\n",
       "      <td>-1.528605</td>\n",
       "      <td>0.588685</td>\n",
       "      <td>-0.002527</td>\n",
       "      <td>-1.400321</td>\n",
       "    </tr>\n",
       "    <tr>\n",
       "      <th>2013-01-06</th>\n",
       "      <td>-2.835337</td>\n",
       "      <td>0.309922</td>\n",
       "      <td>-0.291958</td>\n",
       "      <td>-0.086227</td>\n",
       "    </tr>\n",
       "  </tbody>\n",
       "</table>\n",
       "</div>"
      ],
      "text/plain": [
       "                   A         B         C         D\n",
       "2013-01-04  0.294944  1.954521 -1.928209  0.975530\n",
       "2013-01-05 -1.528605  0.588685 -0.002527 -1.400321\n",
       "2013-01-06 -2.835337  0.309922 -0.291958 -0.086227"
      ]
     },
     "execution_count": 333,
     "metadata": {},
     "output_type": "execute_result"
    }
   ],
   "source": [
    "df.tail(3) #display last 3 records"
   ]
  },
  {
   "cell_type": "code",
   "execution_count": 335,
   "id": "a9411913-f255-4d58-b43d-89a6d6db929a",
   "metadata": {},
   "outputs": [
    {
     "data": {
      "text/plain": [
       "DatetimeIndex(['2013-01-01', '2013-01-02', '2013-01-03', '2013-01-04',\n",
       "               '2013-01-05', '2013-01-06'],\n",
       "              dtype='datetime64[ns]', freq='D')"
      ]
     },
     "execution_count": 335,
     "metadata": {},
     "output_type": "execute_result"
    }
   ],
   "source": [
    "df.index #display indexes"
   ]
  },
  {
   "cell_type": "code",
   "execution_count": 337,
   "id": "a1ac0bb1-1791-4484-b4a2-f042784f19ce",
   "metadata": {},
   "outputs": [
    {
     "data": {
      "text/plain": [
       "Index(['A', 'B', 'C', 'D'], dtype='object')"
      ]
     },
     "execution_count": 337,
     "metadata": {},
     "output_type": "execute_result"
    }
   ],
   "source": [
    "df.columns #display coloumns"
   ]
  },
  {
   "cell_type": "code",
   "execution_count": 339,
   "id": "ba088227-d06a-4b25-8149-001b9600ea1b",
   "metadata": {},
   "outputs": [
    {
     "data": {
      "text/plain": [
       "array([[ 9.47153038e-01,  1.75878896e+00,  1.36648287e+00,\n",
       "         1.83939040e+00],\n",
       "       [-8.46396384e-01, -1.22543708e+00, -2.22078196e+00,\n",
       "        -1.55965155e+00],\n",
       "       [-1.38835294e+00,  1.18007697e+00,  7.22548019e-02,\n",
       "         2.93131518e-01],\n",
       "       [ 2.94943761e-01,  1.95452133e+00, -1.92820852e+00,\n",
       "         9.75530432e-01],\n",
       "       [-1.52860549e+00,  5.88684844e-01, -2.52682423e-03,\n",
       "        -1.40032101e+00],\n",
       "       [-2.83533696e+00,  3.09921587e-01, -2.91958349e-01,\n",
       "        -8.62270030e-02]])"
      ]
     },
     "execution_count": 339,
     "metadata": {},
     "output_type": "execute_result"
    }
   ],
   "source": [
    "df.values # print values"
   ]
  },
  {
   "cell_type": "code",
   "execution_count": 341,
   "id": "b96923ca-4051-4555-9c63-45631a40f7d8",
   "metadata": {},
   "outputs": [
    {
     "data": {
      "text/html": [
       "<div>\n",
       "<style scoped>\n",
       "    .dataframe tbody tr th:only-of-type {\n",
       "        vertical-align: middle;\n",
       "    }\n",
       "\n",
       "    .dataframe tbody tr th {\n",
       "        vertical-align: top;\n",
       "    }\n",
       "\n",
       "    .dataframe thead th {\n",
       "        text-align: right;\n",
       "    }\n",
       "</style>\n",
       "<table border=\"1\" class=\"dataframe\">\n",
       "  <thead>\n",
       "    <tr style=\"text-align: right;\">\n",
       "      <th></th>\n",
       "      <th>2013-01-01</th>\n",
       "      <th>2013-01-02</th>\n",
       "      <th>2013-01-03</th>\n",
       "      <th>2013-01-04</th>\n",
       "      <th>2013-01-05</th>\n",
       "      <th>2013-01-06</th>\n",
       "    </tr>\n",
       "  </thead>\n",
       "  <tbody>\n",
       "    <tr>\n",
       "      <th>A</th>\n",
       "      <td>0.947153</td>\n",
       "      <td>-0.846396</td>\n",
       "      <td>-1.388353</td>\n",
       "      <td>0.294944</td>\n",
       "      <td>-1.528605</td>\n",
       "      <td>-2.835337</td>\n",
       "    </tr>\n",
       "    <tr>\n",
       "      <th>B</th>\n",
       "      <td>1.758789</td>\n",
       "      <td>-1.225437</td>\n",
       "      <td>1.180077</td>\n",
       "      <td>1.954521</td>\n",
       "      <td>0.588685</td>\n",
       "      <td>0.309922</td>\n",
       "    </tr>\n",
       "    <tr>\n",
       "      <th>C</th>\n",
       "      <td>1.366483</td>\n",
       "      <td>-2.220782</td>\n",
       "      <td>0.072255</td>\n",
       "      <td>-1.928209</td>\n",
       "      <td>-0.002527</td>\n",
       "      <td>-0.291958</td>\n",
       "    </tr>\n",
       "    <tr>\n",
       "      <th>D</th>\n",
       "      <td>1.839390</td>\n",
       "      <td>-1.559652</td>\n",
       "      <td>0.293132</td>\n",
       "      <td>0.975530</td>\n",
       "      <td>-1.400321</td>\n",
       "      <td>-0.086227</td>\n",
       "    </tr>\n",
       "  </tbody>\n",
       "</table>\n",
       "</div>"
      ],
      "text/plain": [
       "   2013-01-01  2013-01-02  2013-01-03  2013-01-04  2013-01-05  2013-01-06\n",
       "A    0.947153   -0.846396   -1.388353    0.294944   -1.528605   -2.835337\n",
       "B    1.758789   -1.225437    1.180077    1.954521    0.588685    0.309922\n",
       "C    1.366483   -2.220782    0.072255   -1.928209   -0.002527   -0.291958\n",
       "D    1.839390   -1.559652    0.293132    0.975530   -1.400321   -0.086227"
      ]
     },
     "execution_count": 341,
     "metadata": {},
     "output_type": "execute_result"
    }
   ],
   "source": [
    "# Transposing your data\n",
    "df.T"
   ]
  },
  {
   "cell_type": "code",
   "execution_count": 343,
   "id": "cd94bc3a-0039-49ba-bee4-f028fdde62cd",
   "metadata": {},
   "outputs": [
    {
     "data": {
      "text/html": [
       "<div>\n",
       "<style scoped>\n",
       "    .dataframe tbody tr th:only-of-type {\n",
       "        vertical-align: middle;\n",
       "    }\n",
       "\n",
       "    .dataframe tbody tr th {\n",
       "        vertical-align: top;\n",
       "    }\n",
       "\n",
       "    .dataframe thead th {\n",
       "        text-align: right;\n",
       "    }\n",
       "</style>\n",
       "<table border=\"1\" class=\"dataframe\">\n",
       "  <thead>\n",
       "    <tr style=\"text-align: right;\">\n",
       "      <th></th>\n",
       "      <th>D</th>\n",
       "      <th>C</th>\n",
       "      <th>B</th>\n",
       "      <th>A</th>\n",
       "    </tr>\n",
       "  </thead>\n",
       "  <tbody>\n",
       "    <tr>\n",
       "      <th>2013-01-01</th>\n",
       "      <td>1.839390</td>\n",
       "      <td>1.366483</td>\n",
       "      <td>1.758789</td>\n",
       "      <td>0.947153</td>\n",
       "    </tr>\n",
       "    <tr>\n",
       "      <th>2013-01-02</th>\n",
       "      <td>-1.559652</td>\n",
       "      <td>-2.220782</td>\n",
       "      <td>-1.225437</td>\n",
       "      <td>-0.846396</td>\n",
       "    </tr>\n",
       "    <tr>\n",
       "      <th>2013-01-03</th>\n",
       "      <td>0.293132</td>\n",
       "      <td>0.072255</td>\n",
       "      <td>1.180077</td>\n",
       "      <td>-1.388353</td>\n",
       "    </tr>\n",
       "    <tr>\n",
       "      <th>2013-01-04</th>\n",
       "      <td>0.975530</td>\n",
       "      <td>-1.928209</td>\n",
       "      <td>1.954521</td>\n",
       "      <td>0.294944</td>\n",
       "    </tr>\n",
       "    <tr>\n",
       "      <th>2013-01-05</th>\n",
       "      <td>-1.400321</td>\n",
       "      <td>-0.002527</td>\n",
       "      <td>0.588685</td>\n",
       "      <td>-1.528605</td>\n",
       "    </tr>\n",
       "    <tr>\n",
       "      <th>2013-01-06</th>\n",
       "      <td>-0.086227</td>\n",
       "      <td>-0.291958</td>\n",
       "      <td>0.309922</td>\n",
       "      <td>-2.835337</td>\n",
       "    </tr>\n",
       "  </tbody>\n",
       "</table>\n",
       "</div>"
      ],
      "text/plain": [
       "                   D         C         B         A\n",
       "2013-01-01  1.839390  1.366483  1.758789  0.947153\n",
       "2013-01-02 -1.559652 -2.220782 -1.225437 -0.846396\n",
       "2013-01-03  0.293132  0.072255  1.180077 -1.388353\n",
       "2013-01-04  0.975530 -1.928209  1.954521  0.294944\n",
       "2013-01-05 -1.400321 -0.002527  0.588685 -1.528605\n",
       "2013-01-06 -0.086227 -0.291958  0.309922 -2.835337"
      ]
     },
     "execution_count": 343,
     "metadata": {},
     "output_type": "execute_result"
    }
   ],
   "source": [
    "#Sorting by an axis\n",
    "df.sort_index(axis=1, ascending=False)"
   ]
  },
  {
   "cell_type": "code",
   "execution_count": 345,
   "id": "c062466f-ede5-4ce1-ac6e-c3146694b9e9",
   "metadata": {},
   "outputs": [
    {
     "data": {
      "text/html": [
       "<div>\n",
       "<style scoped>\n",
       "    .dataframe tbody tr th:only-of-type {\n",
       "        vertical-align: middle;\n",
       "    }\n",
       "\n",
       "    .dataframe tbody tr th {\n",
       "        vertical-align: top;\n",
       "    }\n",
       "\n",
       "    .dataframe thead th {\n",
       "        text-align: right;\n",
       "    }\n",
       "</style>\n",
       "<table border=\"1\" class=\"dataframe\">\n",
       "  <thead>\n",
       "    <tr style=\"text-align: right;\">\n",
       "      <th></th>\n",
       "      <th>A</th>\n",
       "      <th>B</th>\n",
       "      <th>C</th>\n",
       "      <th>D</th>\n",
       "    </tr>\n",
       "  </thead>\n",
       "  <tbody>\n",
       "    <tr>\n",
       "      <th>2013-01-02</th>\n",
       "      <td>-0.846396</td>\n",
       "      <td>-1.225437</td>\n",
       "      <td>-2.220782</td>\n",
       "      <td>-1.559652</td>\n",
       "    </tr>\n",
       "    <tr>\n",
       "      <th>2013-01-06</th>\n",
       "      <td>-2.835337</td>\n",
       "      <td>0.309922</td>\n",
       "      <td>-0.291958</td>\n",
       "      <td>-0.086227</td>\n",
       "    </tr>\n",
       "    <tr>\n",
       "      <th>2013-01-05</th>\n",
       "      <td>-1.528605</td>\n",
       "      <td>0.588685</td>\n",
       "      <td>-0.002527</td>\n",
       "      <td>-1.400321</td>\n",
       "    </tr>\n",
       "    <tr>\n",
       "      <th>2013-01-03</th>\n",
       "      <td>-1.388353</td>\n",
       "      <td>1.180077</td>\n",
       "      <td>0.072255</td>\n",
       "      <td>0.293132</td>\n",
       "    </tr>\n",
       "    <tr>\n",
       "      <th>2013-01-01</th>\n",
       "      <td>0.947153</td>\n",
       "      <td>1.758789</td>\n",
       "      <td>1.366483</td>\n",
       "      <td>1.839390</td>\n",
       "    </tr>\n",
       "    <tr>\n",
       "      <th>2013-01-04</th>\n",
       "      <td>0.294944</td>\n",
       "      <td>1.954521</td>\n",
       "      <td>-1.928209</td>\n",
       "      <td>0.975530</td>\n",
       "    </tr>\n",
       "  </tbody>\n",
       "</table>\n",
       "</div>"
      ],
      "text/plain": [
       "                   A         B         C         D\n",
       "2013-01-02 -0.846396 -1.225437 -2.220782 -1.559652\n",
       "2013-01-06 -2.835337  0.309922 -0.291958 -0.086227\n",
       "2013-01-05 -1.528605  0.588685 -0.002527 -1.400321\n",
       "2013-01-03 -1.388353  1.180077  0.072255  0.293132\n",
       "2013-01-01  0.947153  1.758789  1.366483  1.839390\n",
       "2013-01-04  0.294944  1.954521 -1.928209  0.975530"
      ]
     },
     "execution_count": 345,
     "metadata": {},
     "output_type": "execute_result"
    }
   ],
   "source": [
    "#Sorting by values\n",
    "df.sort_values(by='B')"
   ]
  },
  {
   "cell_type": "code",
   "execution_count": 347,
   "id": "296a5a35-9796-49bf-a64a-fec0ebc1d116",
   "metadata": {},
   "outputs": [
    {
     "data": {
      "text/html": [
       "<div>\n",
       "<style scoped>\n",
       "    .dataframe tbody tr th:only-of-type {\n",
       "        vertical-align: middle;\n",
       "    }\n",
       "\n",
       "    .dataframe tbody tr th {\n",
       "        vertical-align: top;\n",
       "    }\n",
       "\n",
       "    .dataframe thead th {\n",
       "        text-align: right;\n",
       "    }\n",
       "</style>\n",
       "<table border=\"1\" class=\"dataframe\">\n",
       "  <thead>\n",
       "    <tr style=\"text-align: right;\">\n",
       "      <th></th>\n",
       "      <th>A</th>\n",
       "      <th>B</th>\n",
       "      <th>C</th>\n",
       "      <th>D</th>\n",
       "    </tr>\n",
       "  </thead>\n",
       "  <tbody>\n",
       "    <tr>\n",
       "      <th>count</th>\n",
       "      <td>6.000000</td>\n",
       "      <td>6.000000</td>\n",
       "      <td>6.000000</td>\n",
       "      <td>6.000000</td>\n",
       "    </tr>\n",
       "    <tr>\n",
       "      <th>mean</th>\n",
       "      <td>-0.892766</td>\n",
       "      <td>0.761093</td>\n",
       "      <td>-0.500790</td>\n",
       "      <td>0.010309</td>\n",
       "    </tr>\n",
       "    <tr>\n",
       "      <th>std</th>\n",
       "      <td>1.358056</td>\n",
       "      <td>1.164027</td>\n",
       "      <td>1.349286</td>\n",
       "      <td>1.328243</td>\n",
       "    </tr>\n",
       "    <tr>\n",
       "      <th>min</th>\n",
       "      <td>-2.835337</td>\n",
       "      <td>-1.225437</td>\n",
       "      <td>-2.220782</td>\n",
       "      <td>-1.559652</td>\n",
       "    </tr>\n",
       "    <tr>\n",
       "      <th>25%</th>\n",
       "      <td>-1.493542</td>\n",
       "      <td>0.379612</td>\n",
       "      <td>-1.519146</td>\n",
       "      <td>-1.071798</td>\n",
       "    </tr>\n",
       "    <tr>\n",
       "      <th>50%</th>\n",
       "      <td>-1.117375</td>\n",
       "      <td>0.884381</td>\n",
       "      <td>-0.147243</td>\n",
       "      <td>0.103452</td>\n",
       "    </tr>\n",
       "    <tr>\n",
       "      <th>75%</th>\n",
       "      <td>0.009609</td>\n",
       "      <td>1.614111</td>\n",
       "      <td>0.053559</td>\n",
       "      <td>0.804931</td>\n",
       "    </tr>\n",
       "    <tr>\n",
       "      <th>max</th>\n",
       "      <td>0.947153</td>\n",
       "      <td>1.954521</td>\n",
       "      <td>1.366483</td>\n",
       "      <td>1.839390</td>\n",
       "    </tr>\n",
       "  </tbody>\n",
       "</table>\n",
       "</div>"
      ],
      "text/plain": [
       "              A         B         C         D\n",
       "count  6.000000  6.000000  6.000000  6.000000\n",
       "mean  -0.892766  0.761093 -0.500790  0.010309\n",
       "std    1.358056  1.164027  1.349286  1.328243\n",
       "min   -2.835337 -1.225437 -2.220782 -1.559652\n",
       "25%   -1.493542  0.379612 -1.519146 -1.071798\n",
       "50%   -1.117375  0.884381 -0.147243  0.103452\n",
       "75%    0.009609  1.614111  0.053559  0.804931\n",
       "max    0.947153  1.954521  1.366483  1.839390"
      ]
     },
     "execution_count": 347,
     "metadata": {},
     "output_type": "execute_result"
    }
   ],
   "source": [
    "# Describe shows a quick statistic summary of your data\n",
    "df.describe()"
   ]
  },
  {
   "cell_type": "code",
   "execution_count": 349,
   "id": "8de5b993-1aff-4d48-aac1-56fa773f41b7",
   "metadata": {},
   "outputs": [
    {
     "data": {
      "text/plain": [
       "2013-01-01    0.947153\n",
       "2013-01-02   -0.846396\n",
       "2013-01-03   -1.388353\n",
       "2013-01-04    0.294944\n",
       "2013-01-05   -1.528605\n",
       "2013-01-06   -2.835337\n",
       "Freq: D, Name: A, dtype: float64"
      ]
     },
     "execution_count": 349,
     "metadata": {},
     "output_type": "execute_result"
    }
   ],
   "source": [
    "#Selecting a single column, which yields a Series, equivalent to df.A\n",
    "df['A']"
   ]
  },
  {
   "cell_type": "code",
   "execution_count": 351,
   "id": "c2eaf7d1-6615-451d-8d19-404b0e5c9dae",
   "metadata": {},
   "outputs": [
    {
     "data": {
      "text/html": [
       "<div>\n",
       "<style scoped>\n",
       "    .dataframe tbody tr th:only-of-type {\n",
       "        vertical-align: middle;\n",
       "    }\n",
       "\n",
       "    .dataframe tbody tr th {\n",
       "        vertical-align: top;\n",
       "    }\n",
       "\n",
       "    .dataframe thead th {\n",
       "        text-align: right;\n",
       "    }\n",
       "</style>\n",
       "<table border=\"1\" class=\"dataframe\">\n",
       "  <thead>\n",
       "    <tr style=\"text-align: right;\">\n",
       "      <th></th>\n",
       "      <th>A</th>\n",
       "      <th>B</th>\n",
       "      <th>C</th>\n",
       "      <th>D</th>\n",
       "    </tr>\n",
       "  </thead>\n",
       "  <tbody>\n",
       "    <tr>\n",
       "      <th>2013-01-01</th>\n",
       "      <td>0.947153</td>\n",
       "      <td>1.758789</td>\n",
       "      <td>1.366483</td>\n",
       "      <td>1.839390</td>\n",
       "    </tr>\n",
       "    <tr>\n",
       "      <th>2013-01-02</th>\n",
       "      <td>-0.846396</td>\n",
       "      <td>-1.225437</td>\n",
       "      <td>-2.220782</td>\n",
       "      <td>-1.559652</td>\n",
       "    </tr>\n",
       "    <tr>\n",
       "      <th>2013-01-03</th>\n",
       "      <td>-1.388353</td>\n",
       "      <td>1.180077</td>\n",
       "      <td>0.072255</td>\n",
       "      <td>0.293132</td>\n",
       "    </tr>\n",
       "  </tbody>\n",
       "</table>\n",
       "</div>"
      ],
      "text/plain": [
       "                   A         B         C         D\n",
       "2013-01-01  0.947153  1.758789  1.366483  1.839390\n",
       "2013-01-02 -0.846396 -1.225437 -2.220782 -1.559652\n",
       "2013-01-03 -1.388353  1.180077  0.072255  0.293132"
      ]
     },
     "execution_count": 351,
     "metadata": {},
     "output_type": "execute_result"
    }
   ],
   "source": [
    "#Selecting via [], which slices the rows.\n",
    "df[0:3]"
   ]
  },
  {
   "cell_type": "code",
   "execution_count": 353,
   "id": "457331fa-c64f-4e35-815c-ef0673875732",
   "metadata": {},
   "outputs": [
    {
     "data": {
      "text/html": [
       "<div>\n",
       "<style scoped>\n",
       "    .dataframe tbody tr th:only-of-type {\n",
       "        vertical-align: middle;\n",
       "    }\n",
       "\n",
       "    .dataframe tbody tr th {\n",
       "        vertical-align: top;\n",
       "    }\n",
       "\n",
       "    .dataframe thead th {\n",
       "        text-align: right;\n",
       "    }\n",
       "</style>\n",
       "<table border=\"1\" class=\"dataframe\">\n",
       "  <thead>\n",
       "    <tr style=\"text-align: right;\">\n",
       "      <th></th>\n",
       "      <th>A</th>\n",
       "      <th>B</th>\n",
       "      <th>C</th>\n",
       "      <th>D</th>\n",
       "    </tr>\n",
       "  </thead>\n",
       "  <tbody>\n",
       "    <tr>\n",
       "      <th>2013-01-02</th>\n",
       "      <td>-0.846396</td>\n",
       "      <td>-1.225437</td>\n",
       "      <td>-2.220782</td>\n",
       "      <td>-1.559652</td>\n",
       "    </tr>\n",
       "    <tr>\n",
       "      <th>2013-01-03</th>\n",
       "      <td>-1.388353</td>\n",
       "      <td>1.180077</td>\n",
       "      <td>0.072255</td>\n",
       "      <td>0.293132</td>\n",
       "    </tr>\n",
       "    <tr>\n",
       "      <th>2013-01-04</th>\n",
       "      <td>0.294944</td>\n",
       "      <td>1.954521</td>\n",
       "      <td>-1.928209</td>\n",
       "      <td>0.975530</td>\n",
       "    </tr>\n",
       "  </tbody>\n",
       "</table>\n",
       "</div>"
      ],
      "text/plain": [
       "                   A         B         C         D\n",
       "2013-01-02 -0.846396 -1.225437 -2.220782 -1.559652\n",
       "2013-01-03 -1.388353  1.180077  0.072255  0.293132\n",
       "2013-01-04  0.294944  1.954521 -1.928209  0.975530"
      ]
     },
     "execution_count": 353,
     "metadata": {},
     "output_type": "execute_result"
    }
   ],
   "source": [
    "df['20130102':'20130104']\n"
   ]
  },
  {
   "cell_type": "code",
   "execution_count": 355,
   "id": "3557b65c-5120-4b22-bda1-7eadbdabde09",
   "metadata": {},
   "outputs": [
    {
     "data": {
      "text/html": [
       "<div>\n",
       "<style scoped>\n",
       "    .dataframe tbody tr th:only-of-type {\n",
       "        vertical-align: middle;\n",
       "    }\n",
       "\n",
       "    .dataframe tbody tr th {\n",
       "        vertical-align: top;\n",
       "    }\n",
       "\n",
       "    .dataframe thead th {\n",
       "        text-align: right;\n",
       "    }\n",
       "</style>\n",
       "<table border=\"1\" class=\"dataframe\">\n",
       "  <thead>\n",
       "    <tr style=\"text-align: right;\">\n",
       "      <th></th>\n",
       "      <th>A</th>\n",
       "      <th>B</th>\n",
       "    </tr>\n",
       "  </thead>\n",
       "  <tbody>\n",
       "    <tr>\n",
       "      <th>2013-01-01</th>\n",
       "      <td>0.947153</td>\n",
       "      <td>1.758789</td>\n",
       "    </tr>\n",
       "    <tr>\n",
       "      <th>2013-01-02</th>\n",
       "      <td>-0.846396</td>\n",
       "      <td>-1.225437</td>\n",
       "    </tr>\n",
       "    <tr>\n",
       "      <th>2013-01-03</th>\n",
       "      <td>-1.388353</td>\n",
       "      <td>1.180077</td>\n",
       "    </tr>\n",
       "    <tr>\n",
       "      <th>2013-01-04</th>\n",
       "      <td>0.294944</td>\n",
       "      <td>1.954521</td>\n",
       "    </tr>\n",
       "    <tr>\n",
       "      <th>2013-01-05</th>\n",
       "      <td>-1.528605</td>\n",
       "      <td>0.588685</td>\n",
       "    </tr>\n",
       "    <tr>\n",
       "      <th>2013-01-06</th>\n",
       "      <td>-2.835337</td>\n",
       "      <td>0.309922</td>\n",
       "    </tr>\n",
       "  </tbody>\n",
       "</table>\n",
       "</div>"
      ],
      "text/plain": [
       "                   A         B\n",
       "2013-01-01  0.947153  1.758789\n",
       "2013-01-02 -0.846396 -1.225437\n",
       "2013-01-03 -1.388353  1.180077\n",
       "2013-01-04  0.294944  1.954521\n",
       "2013-01-05 -1.528605  0.588685\n",
       "2013-01-06 -2.835337  0.309922"
      ]
     },
     "execution_count": 355,
     "metadata": {},
     "output_type": "execute_result"
    }
   ],
   "source": [
    "#Selecting on a multi-axis by label\n",
    "df.loc[:,['A','B']]"
   ]
  },
  {
   "cell_type": "code",
   "execution_count": 357,
   "id": "b4c3c622-da32-4818-926a-0f4979ec446b",
   "metadata": {},
   "outputs": [
    {
     "data": {
      "text/html": [
       "<div>\n",
       "<style scoped>\n",
       "    .dataframe tbody tr th:only-of-type {\n",
       "        vertical-align: middle;\n",
       "    }\n",
       "\n",
       "    .dataframe tbody tr th {\n",
       "        vertical-align: top;\n",
       "    }\n",
       "\n",
       "    .dataframe thead th {\n",
       "        text-align: right;\n",
       "    }\n",
       "</style>\n",
       "<table border=\"1\" class=\"dataframe\">\n",
       "  <thead>\n",
       "    <tr style=\"text-align: right;\">\n",
       "      <th></th>\n",
       "      <th>A</th>\n",
       "      <th>B</th>\n",
       "    </tr>\n",
       "  </thead>\n",
       "  <tbody>\n",
       "    <tr>\n",
       "      <th>2013-01-02</th>\n",
       "      <td>-0.846396</td>\n",
       "      <td>-1.225437</td>\n",
       "    </tr>\n",
       "    <tr>\n",
       "      <th>2013-01-03</th>\n",
       "      <td>-1.388353</td>\n",
       "      <td>1.180077</td>\n",
       "    </tr>\n",
       "    <tr>\n",
       "      <th>2013-01-04</th>\n",
       "      <td>0.294944</td>\n",
       "      <td>1.954521</td>\n",
       "    </tr>\n",
       "  </tbody>\n",
       "</table>\n",
       "</div>"
      ],
      "text/plain": [
       "                   A         B\n",
       "2013-01-02 -0.846396 -1.225437\n",
       "2013-01-03 -1.388353  1.180077\n",
       "2013-01-04  0.294944  1.954521"
      ]
     },
     "execution_count": 357,
     "metadata": {},
     "output_type": "execute_result"
    }
   ],
   "source": [
    "#Showing label slicing, both endpoints are included\n",
    "df.loc['20130102':'20130104',['A','B']]"
   ]
  },
  {
   "cell_type": "code",
   "execution_count": 359,
   "id": "268c0988-1a4f-47ce-8698-5404800df73d",
   "metadata": {},
   "outputs": [
    {
     "data": {
      "text/plain": [
       "A   -0.846396\n",
       "B   -1.225437\n",
       "Name: 2013-01-02 00:00:00, dtype: float64"
      ]
     },
     "execution_count": 359,
     "metadata": {},
     "output_type": "execute_result"
    }
   ],
   "source": [
    "# Reduction in the dimensions of the returned object\n",
    "df.loc['20130102',['A','B']]"
   ]
  },
  {
   "cell_type": "code",
   "execution_count": 361,
   "id": "37b54c27-8fc9-43dd-8048-cc0b16fcd9b3",
   "metadata": {},
   "outputs": [
    {
     "data": {
      "text/plain": [
       "0.9471530383067611"
      ]
     },
     "execution_count": 361,
     "metadata": {},
     "output_type": "execute_result"
    }
   ],
   "source": [
    " # For getting a scalar value\n",
    "df.loc[dates[0],'A']"
   ]
  },
  {
   "cell_type": "code",
   "execution_count": 363,
   "id": "f510927a-3834-4dc4-afa7-a860aba5f6af",
   "metadata": {},
   "outputs": [
    {
     "data": {
      "text/plain": [
       "0.9471530383067611"
      ]
     },
     "execution_count": 363,
     "metadata": {},
     "output_type": "execute_result"
    }
   ],
   "source": [
    "# For getting fast access to a scalar\n",
    "df.at[dates[0],'A']"
   ]
  },
  {
   "cell_type": "code",
   "execution_count": 365,
   "id": "d394f1c2-6cc9-46e9-950e-79287a340218",
   "metadata": {},
   "outputs": [
    {
     "data": {
      "text/plain": [
       "A    0.294944\n",
       "B    1.954521\n",
       "C   -1.928209\n",
       "D    0.975530\n",
       "Name: 2013-01-04 00:00:00, dtype: float64"
      ]
     },
     "execution_count": 365,
     "metadata": {},
     "output_type": "execute_result"
    }
   ],
   "source": [
    "# Select via the position of the passed integers\n",
    "df.iloc[3]"
   ]
  },
  {
   "cell_type": "code",
   "execution_count": 367,
   "id": "2c3e94d6-1380-46ed-bda0-afb2aee04ff9",
   "metadata": {},
   "outputs": [
    {
     "data": {
      "text/html": [
       "<div>\n",
       "<style scoped>\n",
       "    .dataframe tbody tr th:only-of-type {\n",
       "        vertical-align: middle;\n",
       "    }\n",
       "\n",
       "    .dataframe tbody tr th {\n",
       "        vertical-align: top;\n",
       "    }\n",
       "\n",
       "    .dataframe thead th {\n",
       "        text-align: right;\n",
       "    }\n",
       "</style>\n",
       "<table border=\"1\" class=\"dataframe\">\n",
       "  <thead>\n",
       "    <tr style=\"text-align: right;\">\n",
       "      <th></th>\n",
       "      <th>A</th>\n",
       "      <th>B</th>\n",
       "    </tr>\n",
       "  </thead>\n",
       "  <tbody>\n",
       "    <tr>\n",
       "      <th>2013-01-04</th>\n",
       "      <td>0.294944</td>\n",
       "      <td>1.954521</td>\n",
       "    </tr>\n",
       "    <tr>\n",
       "      <th>2013-01-05</th>\n",
       "      <td>-1.528605</td>\n",
       "      <td>0.588685</td>\n",
       "    </tr>\n",
       "  </tbody>\n",
       "</table>\n",
       "</div>"
      ],
      "text/plain": [
       "                   A         B\n",
       "2013-01-04  0.294944  1.954521\n",
       "2013-01-05 -1.528605  0.588685"
      ]
     },
     "execution_count": 367,
     "metadata": {},
     "output_type": "execute_result"
    }
   ],
   "source": [
    "# By integer slices, acting similar to numpy/python\n",
    "df.iloc[3:5,0:2]"
   ]
  },
  {
   "cell_type": "code",
   "execution_count": 369,
   "id": "d5fce393-d573-42f1-ad2a-32468537ddbd",
   "metadata": {},
   "outputs": [
    {
     "data": {
      "text/html": [
       "<div>\n",
       "<style scoped>\n",
       "    .dataframe tbody tr th:only-of-type {\n",
       "        vertical-align: middle;\n",
       "    }\n",
       "\n",
       "    .dataframe tbody tr th {\n",
       "        vertical-align: top;\n",
       "    }\n",
       "\n",
       "    .dataframe thead th {\n",
       "        text-align: right;\n",
       "    }\n",
       "</style>\n",
       "<table border=\"1\" class=\"dataframe\">\n",
       "  <thead>\n",
       "    <tr style=\"text-align: right;\">\n",
       "      <th></th>\n",
       "      <th>A</th>\n",
       "      <th>C</th>\n",
       "    </tr>\n",
       "  </thead>\n",
       "  <tbody>\n",
       "    <tr>\n",
       "      <th>2013-01-02</th>\n",
       "      <td>-0.846396</td>\n",
       "      <td>-2.220782</td>\n",
       "    </tr>\n",
       "    <tr>\n",
       "      <th>2013-01-03</th>\n",
       "      <td>-1.388353</td>\n",
       "      <td>0.072255</td>\n",
       "    </tr>\n",
       "    <tr>\n",
       "      <th>2013-01-05</th>\n",
       "      <td>-1.528605</td>\n",
       "      <td>-0.002527</td>\n",
       "    </tr>\n",
       "  </tbody>\n",
       "</table>\n",
       "</div>"
      ],
      "text/plain": [
       "                   A         C\n",
       "2013-01-02 -0.846396 -2.220782\n",
       "2013-01-03 -1.388353  0.072255\n",
       "2013-01-05 -1.528605 -0.002527"
      ]
     },
     "execution_count": 369,
     "metadata": {},
     "output_type": "execute_result"
    }
   ],
   "source": [
    "# By lists of integer position locations, similar to the numpy/python style\n",
    "df.iloc[[1,2,4],[0,2]]"
   ]
  },
  {
   "cell_type": "code",
   "execution_count": 371,
   "id": "e4d3b4bf-f49b-49f9-a1a1-11b5a902f659",
   "metadata": {},
   "outputs": [
    {
     "data": {
      "text/html": [
       "<div>\n",
       "<style scoped>\n",
       "    .dataframe tbody tr th:only-of-type {\n",
       "        vertical-align: middle;\n",
       "    }\n",
       "\n",
       "    .dataframe tbody tr th {\n",
       "        vertical-align: top;\n",
       "    }\n",
       "\n",
       "    .dataframe thead th {\n",
       "        text-align: right;\n",
       "    }\n",
       "</style>\n",
       "<table border=\"1\" class=\"dataframe\">\n",
       "  <thead>\n",
       "    <tr style=\"text-align: right;\">\n",
       "      <th></th>\n",
       "      <th>B</th>\n",
       "      <th>C</th>\n",
       "    </tr>\n",
       "  </thead>\n",
       "  <tbody>\n",
       "    <tr>\n",
       "      <th>2013-01-01</th>\n",
       "      <td>1.758789</td>\n",
       "      <td>1.366483</td>\n",
       "    </tr>\n",
       "    <tr>\n",
       "      <th>2013-01-02</th>\n",
       "      <td>-1.225437</td>\n",
       "      <td>-2.220782</td>\n",
       "    </tr>\n",
       "    <tr>\n",
       "      <th>2013-01-03</th>\n",
       "      <td>1.180077</td>\n",
       "      <td>0.072255</td>\n",
       "    </tr>\n",
       "    <tr>\n",
       "      <th>2013-01-04</th>\n",
       "      <td>1.954521</td>\n",
       "      <td>-1.928209</td>\n",
       "    </tr>\n",
       "    <tr>\n",
       "      <th>2013-01-05</th>\n",
       "      <td>0.588685</td>\n",
       "      <td>-0.002527</td>\n",
       "    </tr>\n",
       "    <tr>\n",
       "      <th>2013-01-06</th>\n",
       "      <td>0.309922</td>\n",
       "      <td>-0.291958</td>\n",
       "    </tr>\n",
       "  </tbody>\n",
       "</table>\n",
       "</div>"
      ],
      "text/plain": [
       "                   B         C\n",
       "2013-01-01  1.758789  1.366483\n",
       "2013-01-02 -1.225437 -2.220782\n",
       "2013-01-03  1.180077  0.072255\n",
       "2013-01-04  1.954521 -1.928209\n",
       "2013-01-05  0.588685 -0.002527\n",
       "2013-01-06  0.309922 -0.291958"
      ]
     },
     "execution_count": 371,
     "metadata": {},
     "output_type": "execute_result"
    }
   ],
   "source": [
    "# For slicing rows explicitly\n",
    "df.iloc[:,1:3]"
   ]
  },
  {
   "cell_type": "code",
   "execution_count": 373,
   "id": "37a93783-4f0e-4638-90de-7eecf6203436",
   "metadata": {},
   "outputs": [
    {
     "data": {
      "text/plain": [
       "-1.2254370774913659"
      ]
     },
     "execution_count": 373,
     "metadata": {},
     "output_type": "execute_result"
    }
   ],
   "source": [
    " # For getting a value explicitly\n",
    "df.iloc[1,1]"
   ]
  },
  {
   "cell_type": "code",
   "execution_count": 375,
   "id": "6d38c61e-570c-49ab-872c-0f056aa79638",
   "metadata": {},
   "outputs": [
    {
     "data": {
      "text/html": [
       "<div>\n",
       "<style scoped>\n",
       "    .dataframe tbody tr th:only-of-type {\n",
       "        vertical-align: middle;\n",
       "    }\n",
       "\n",
       "    .dataframe tbody tr th {\n",
       "        vertical-align: top;\n",
       "    }\n",
       "\n",
       "    .dataframe thead th {\n",
       "        text-align: right;\n",
       "    }\n",
       "</style>\n",
       "<table border=\"1\" class=\"dataframe\">\n",
       "  <thead>\n",
       "    <tr style=\"text-align: right;\">\n",
       "      <th></th>\n",
       "      <th>A</th>\n",
       "      <th>B</th>\n",
       "      <th>C</th>\n",
       "      <th>D</th>\n",
       "    </tr>\n",
       "  </thead>\n",
       "  <tbody>\n",
       "    <tr>\n",
       "      <th>2013-01-01</th>\n",
       "      <td>0.947153</td>\n",
       "      <td>1.758789</td>\n",
       "      <td>1.366483</td>\n",
       "      <td>1.83939</td>\n",
       "    </tr>\n",
       "    <tr>\n",
       "      <th>2013-01-04</th>\n",
       "      <td>0.294944</td>\n",
       "      <td>1.954521</td>\n",
       "      <td>-1.928209</td>\n",
       "      <td>0.97553</td>\n",
       "    </tr>\n",
       "  </tbody>\n",
       "</table>\n",
       "</div>"
      ],
      "text/plain": [
       "                   A         B         C        D\n",
       "2013-01-01  0.947153  1.758789  1.366483  1.83939\n",
       "2013-01-04  0.294944  1.954521 -1.928209  0.97553"
      ]
     },
     "execution_count": 375,
     "metadata": {},
     "output_type": "execute_result"
    }
   ],
   "source": [
    "# Using a single column’s values to select data.\n",
    "df[df.A > 0]"
   ]
  },
  {
   "cell_type": "code",
   "execution_count": 377,
   "id": "ae6a53d8-f2ed-4118-8d64-85be6363762b",
   "metadata": {},
   "outputs": [
    {
     "data": {
      "text/html": [
       "<div>\n",
       "<style scoped>\n",
       "    .dataframe tbody tr th:only-of-type {\n",
       "        vertical-align: middle;\n",
       "    }\n",
       "\n",
       "    .dataframe tbody tr th {\n",
       "        vertical-align: top;\n",
       "    }\n",
       "\n",
       "    .dataframe thead th {\n",
       "        text-align: right;\n",
       "    }\n",
       "</style>\n",
       "<table border=\"1\" class=\"dataframe\">\n",
       "  <thead>\n",
       "    <tr style=\"text-align: right;\">\n",
       "      <th></th>\n",
       "      <th>A</th>\n",
       "      <th>B</th>\n",
       "      <th>C</th>\n",
       "      <th>D</th>\n",
       "    </tr>\n",
       "  </thead>\n",
       "  <tbody>\n",
       "    <tr>\n",
       "      <th>2013-01-01</th>\n",
       "      <td>0.947153</td>\n",
       "      <td>1.758789</td>\n",
       "      <td>1.366483</td>\n",
       "      <td>1.839390</td>\n",
       "    </tr>\n",
       "    <tr>\n",
       "      <th>2013-01-02</th>\n",
       "      <td>NaN</td>\n",
       "      <td>NaN</td>\n",
       "      <td>NaN</td>\n",
       "      <td>NaN</td>\n",
       "    </tr>\n",
       "    <tr>\n",
       "      <th>2013-01-03</th>\n",
       "      <td>NaN</td>\n",
       "      <td>1.180077</td>\n",
       "      <td>0.072255</td>\n",
       "      <td>0.293132</td>\n",
       "    </tr>\n",
       "    <tr>\n",
       "      <th>2013-01-04</th>\n",
       "      <td>0.294944</td>\n",
       "      <td>1.954521</td>\n",
       "      <td>NaN</td>\n",
       "      <td>0.975530</td>\n",
       "    </tr>\n",
       "    <tr>\n",
       "      <th>2013-01-05</th>\n",
       "      <td>NaN</td>\n",
       "      <td>0.588685</td>\n",
       "      <td>NaN</td>\n",
       "      <td>NaN</td>\n",
       "    </tr>\n",
       "    <tr>\n",
       "      <th>2013-01-06</th>\n",
       "      <td>NaN</td>\n",
       "      <td>0.309922</td>\n",
       "      <td>NaN</td>\n",
       "      <td>NaN</td>\n",
       "    </tr>\n",
       "  </tbody>\n",
       "</table>\n",
       "</div>"
      ],
      "text/plain": [
       "                   A         B         C         D\n",
       "2013-01-01  0.947153  1.758789  1.366483  1.839390\n",
       "2013-01-02       NaN       NaN       NaN       NaN\n",
       "2013-01-03       NaN  1.180077  0.072255  0.293132\n",
       "2013-01-04  0.294944  1.954521       NaN  0.975530\n",
       "2013-01-05       NaN  0.588685       NaN       NaN\n",
       "2013-01-06       NaN  0.309922       NaN       NaN"
      ]
     },
     "execution_count": 377,
     "metadata": {},
     "output_type": "execute_result"
    }
   ],
   "source": [
    "# Selecting values from a DataFrame where a boolean condition is met.\n",
    "df[df > 0]"
   ]
  },
  {
   "cell_type": "code",
   "execution_count": 379,
   "id": "4aa7f0d6-cb7f-4abb-a023-2461087c4755",
   "metadata": {},
   "outputs": [],
   "source": [
    "# Using the isin() method for filtering:\n",
    "df2 = df.copy()"
   ]
  },
  {
   "cell_type": "code",
   "execution_count": 381,
   "id": "bfd001c3-5387-4eb2-80dc-b37dd306f193",
   "metadata": {},
   "outputs": [],
   "source": [
    "df2['E'] = ['one', 'one','two','three','four','three']"
   ]
  },
  {
   "cell_type": "code",
   "execution_count": 383,
   "id": "05b8ae7a-bb00-47f8-9a19-b10557cdb5cb",
   "metadata": {},
   "outputs": [
    {
     "data": {
      "text/html": [
       "<div>\n",
       "<style scoped>\n",
       "    .dataframe tbody tr th:only-of-type {\n",
       "        vertical-align: middle;\n",
       "    }\n",
       "\n",
       "    .dataframe tbody tr th {\n",
       "        vertical-align: top;\n",
       "    }\n",
       "\n",
       "    .dataframe thead th {\n",
       "        text-align: right;\n",
       "    }\n",
       "</style>\n",
       "<table border=\"1\" class=\"dataframe\">\n",
       "  <thead>\n",
       "    <tr style=\"text-align: right;\">\n",
       "      <th></th>\n",
       "      <th>A</th>\n",
       "      <th>B</th>\n",
       "      <th>C</th>\n",
       "      <th>D</th>\n",
       "      <th>E</th>\n",
       "    </tr>\n",
       "  </thead>\n",
       "  <tbody>\n",
       "    <tr>\n",
       "      <th>2013-01-01</th>\n",
       "      <td>0.947153</td>\n",
       "      <td>1.758789</td>\n",
       "      <td>1.366483</td>\n",
       "      <td>1.839390</td>\n",
       "      <td>one</td>\n",
       "    </tr>\n",
       "    <tr>\n",
       "      <th>2013-01-02</th>\n",
       "      <td>-0.846396</td>\n",
       "      <td>-1.225437</td>\n",
       "      <td>-2.220782</td>\n",
       "      <td>-1.559652</td>\n",
       "      <td>one</td>\n",
       "    </tr>\n",
       "    <tr>\n",
       "      <th>2013-01-03</th>\n",
       "      <td>-1.388353</td>\n",
       "      <td>1.180077</td>\n",
       "      <td>0.072255</td>\n",
       "      <td>0.293132</td>\n",
       "      <td>two</td>\n",
       "    </tr>\n",
       "    <tr>\n",
       "      <th>2013-01-04</th>\n",
       "      <td>0.294944</td>\n",
       "      <td>1.954521</td>\n",
       "      <td>-1.928209</td>\n",
       "      <td>0.975530</td>\n",
       "      <td>three</td>\n",
       "    </tr>\n",
       "    <tr>\n",
       "      <th>2013-01-05</th>\n",
       "      <td>-1.528605</td>\n",
       "      <td>0.588685</td>\n",
       "      <td>-0.002527</td>\n",
       "      <td>-1.400321</td>\n",
       "      <td>four</td>\n",
       "    </tr>\n",
       "    <tr>\n",
       "      <th>2013-01-06</th>\n",
       "      <td>-2.835337</td>\n",
       "      <td>0.309922</td>\n",
       "      <td>-0.291958</td>\n",
       "      <td>-0.086227</td>\n",
       "      <td>three</td>\n",
       "    </tr>\n",
       "  </tbody>\n",
       "</table>\n",
       "</div>"
      ],
      "text/plain": [
       "                   A         B         C         D      E\n",
       "2013-01-01  0.947153  1.758789  1.366483  1.839390    one\n",
       "2013-01-02 -0.846396 -1.225437 -2.220782 -1.559652    one\n",
       "2013-01-03 -1.388353  1.180077  0.072255  0.293132    two\n",
       "2013-01-04  0.294944  1.954521 -1.928209  0.975530  three\n",
       "2013-01-05 -1.528605  0.588685 -0.002527 -1.400321   four\n",
       "2013-01-06 -2.835337  0.309922 -0.291958 -0.086227  three"
      ]
     },
     "execution_count": 383,
     "metadata": {},
     "output_type": "execute_result"
    }
   ],
   "source": [
    "df2"
   ]
  },
  {
   "cell_type": "code",
   "execution_count": 385,
   "id": "d3774d6d-8de5-459d-a244-291a135204fb",
   "metadata": {},
   "outputs": [
    {
     "data": {
      "text/html": [
       "<div>\n",
       "<style scoped>\n",
       "    .dataframe tbody tr th:only-of-type {\n",
       "        vertical-align: middle;\n",
       "    }\n",
       "\n",
       "    .dataframe tbody tr th {\n",
       "        vertical-align: top;\n",
       "    }\n",
       "\n",
       "    .dataframe thead th {\n",
       "        text-align: right;\n",
       "    }\n",
       "</style>\n",
       "<table border=\"1\" class=\"dataframe\">\n",
       "  <thead>\n",
       "    <tr style=\"text-align: right;\">\n",
       "      <th></th>\n",
       "      <th>A</th>\n",
       "      <th>B</th>\n",
       "      <th>C</th>\n",
       "      <th>D</th>\n",
       "      <th>E</th>\n",
       "    </tr>\n",
       "  </thead>\n",
       "  <tbody>\n",
       "    <tr>\n",
       "      <th>2013-01-03</th>\n",
       "      <td>-1.388353</td>\n",
       "      <td>1.180077</td>\n",
       "      <td>0.072255</td>\n",
       "      <td>0.293132</td>\n",
       "      <td>two</td>\n",
       "    </tr>\n",
       "    <tr>\n",
       "      <th>2013-01-05</th>\n",
       "      <td>-1.528605</td>\n",
       "      <td>0.588685</td>\n",
       "      <td>-0.002527</td>\n",
       "      <td>-1.400321</td>\n",
       "      <td>four</td>\n",
       "    </tr>\n",
       "  </tbody>\n",
       "</table>\n",
       "</div>"
      ],
      "text/plain": [
       "                   A         B         C         D     E\n",
       "2013-01-03 -1.388353  1.180077  0.072255  0.293132   two\n",
       "2013-01-05 -1.528605  0.588685 -0.002527 -1.400321  four"
      ]
     },
     "execution_count": 385,
     "metadata": {},
     "output_type": "execute_result"
    }
   ],
   "source": [
    "df2[df2['E'].isin(['two','four'])]"
   ]
  },
  {
   "cell_type": "code",
   "execution_count": null,
   "id": "b616ff58-df7f-434e-9db9-1a7de710feb1",
   "metadata": {},
   "outputs": [],
   "source": []
  },
  {
   "cell_type": "code",
   "execution_count": null,
   "id": "4cc2921e-4a4d-4d54-bf30-356d18321056",
   "metadata": {},
   "outputs": [],
   "source": []
  },
  {
   "cell_type": "code",
   "execution_count": null,
   "id": "ef8705a4-859f-4513-9318-38188707d99e",
   "metadata": {},
   "outputs": [],
   "source": []
  }
 ],
 "metadata": {
  "kernelspec": {
   "display_name": "Python 3 (ipykernel)",
   "language": "python",
   "name": "python3"
  },
  "language_info": {
   "codemirror_mode": {
    "name": "ipython",
    "version": 3
   },
   "file_extension": ".py",
   "mimetype": "text/x-python",
   "name": "python",
   "nbconvert_exporter": "python",
   "pygments_lexer": "ipython3",
   "version": "3.11.7"
  }
 },
 "nbformat": 4,
 "nbformat_minor": 5
}
